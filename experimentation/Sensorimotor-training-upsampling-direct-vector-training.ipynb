{
 "cells": [
  {
   "cell_type": "code",
   "execution_count": 1,
   "metadata": {},
   "outputs": [],
   "source": [
    "import pickle\n",
    "import matplotlib.pyplot as plt\n",
    "import numpy as np\n",
    "import imageio\n",
    "import glob\n",
    "import cv2\n",
    "import skimage\n",
    "from imageio import imread\n",
    "import csv\n",
    "import math\n",
    "import ktrain\n",
    "from keras_lr_finder import LRFinder\n",
    "import sys"
   ]
  },
  {
   "cell_type": "code",
   "execution_count": 2,
   "metadata": {},
   "outputs": [],
   "source": [
    "sys.path.insert(1, '/home/houcem/git/CLR')"
   ]
  },
  {
   "cell_type": "code",
   "execution_count": 3,
   "metadata": {},
   "outputs": [],
   "source": [
    "from clr_callback import *"
   ]
  },
  {
   "cell_type": "markdown",
   "metadata": {},
   "source": [
    "# Creating a generator to load and preprocess the images"
   ]
  },
  {
   "cell_type": "code",
   "execution_count": 4,
   "metadata": {},
   "outputs": [],
   "source": [
    "train_csv_path = \"/home/houcem/data/combined_csv.csv\"\n",
    "val_csv_path = \"/home/houcem/data_val/data.csv\"\n",
    "train_sample_size = sum(1 for row in open(train_csv_path))\n",
    "val_sample_size = sum(1 for row in open(val_csv_path))\n",
    "path = \"/home/houcem/data/data.csv\""
   ]
  },
  {
   "cell_type": "code",
   "execution_count": 5,
   "metadata": {},
   "outputs": [],
   "source": [
    "batch_size = 50"
   ]
  },
  {
   "cell_type": "code",
   "execution_count": 6,
   "metadata": {},
   "outputs": [],
   "source": [
    "def generator(csv_path, batch_size):\n",
    "    X_train = []\n",
    "    y_train = []\n",
    "    batchcount = 0\n",
    "    \n",
    "    while True: #Keeping the generator running\n",
    "        with open(csv_path) as f:\n",
    "            next(f) #Skipping the header\n",
    "            for line in f:\n",
    "                img_x_path, throttle, steering_angle, img_y_path = line.split(',')\n",
    "                \n",
    "                #Loading and Normalizing the input frame\n",
    "                img_x = imread(str(img_x_path))\n",
    "                img_x = img_x/255.0\n",
    "                \n",
    "                #Packing the motor input into a numpy array\n",
    "                motor_input = np.asarray([throttle, steering_angle])\n",
    "                \n",
    "                #Loading and Normalizing the target frame\n",
    "                #img_y = cv2.imread(img_y_path.rstrip(\"\\n\"))\n",
    "                #img_y = img_y/255.0\n",
    "                \n",
    "                #Packing and adding the inputs and targets into the batch\n",
    "                X_train.append(img_x)\n",
    "                y_train.append(img_x)\n",
    "                   \n",
    "                batchcount += 1    \n",
    "                    \n",
    "                if batchcount == batch_size:\n",
    "                    X_train = np.asarray(X_train)\n",
    "                    y_train = np.asarray(y_train)\n",
    "                    yield(X_train, y_train)\n",
    "                    X_train = []\n",
    "                    y_train = []\n",
    "                    batchcount = 0"
   ]
  },
  {
   "cell_type": "code",
   "execution_count": 7,
   "metadata": {},
   "outputs": [],
   "source": [
    "def babbling_generator(csv_path, batch_size):\n",
    "    X_train = []\n",
    "    y_train = []\n",
    "    motor_train = []\n",
    "    batchcount = 0\n",
    "    \n",
    "    while True: #Keeping the generator running\n",
    "        with open(csv_path) as f:\n",
    "            next(f) #Skipping the header\n",
    "            for line in f:\n",
    "                img_x_path, throttle, steering_angle, img_y_path = line.split(',')\n",
    "                \n",
    "                #Loading and Normalizing the input frame\n",
    "                img_x = imread(str(img_x_path))\n",
    "                img_x = img_x/255.0\n",
    "                \n",
    "                #Packing the motor input into a numpy array\n",
    "                motor_input = np.asarray([float(throttle), float(steering_angle)])\n",
    "                \n",
    "                #Loading and Normalizing the target frame\n",
    "                img_y = cv2.imread(str(img_y_path).rstrip(\"\\n\"))\n",
    "                img_y = img_y/255.0\n",
    "                \n",
    "                #Packing and adding the inputs and targets into the batch\n",
    "                X_train.append(img_x)\n",
    "                motor_train.append(motor_input)\n",
    "                y_train.append(img_y)\n",
    "                   \n",
    "                batchcount += 1    \n",
    "                    \n",
    "                if batchcount == batch_size:\n",
    "                    X_train = np.asarray(X_train)\n",
    "                    motor_train = np.asarray(motor_train)                    \n",
    "                    y_train = np.asarray(y_train)\n",
    "                    yield([X_train, motor_train], y_train)\n",
    "                    X_train = []\n",
    "                    y_train = []\n",
    "                    motor_train = []\n",
    "                    batchcount = 0"
   ]
  },
  {
   "cell_type": "code",
   "execution_count": 8,
   "metadata": {},
   "outputs": [],
   "source": [
    "def train_generator(csv_path, batch_size):\n",
    "    X_train = []\n",
    "    batchcount = 0\n",
    "    \n",
    "    while True: #Keeping the generator running\n",
    "        with open(csv_path) as f:\n",
    "            next(f) #Skipping the header\n",
    "            for line in f:\n",
    "                img_x_path, throttle, steering_angle, img_y_path = line.split(',')\n",
    "                \n",
    "                #Loading and Normalizing the input frame\n",
    "                img_x = imread(str(img_x_path))\n",
    "                img_x = img_x/255.0\n",
    "                \n",
    "                #Packing the motor input into a numpy array\n",
    "                motor_input = np.asarray([throttle, steering_angle])\n",
    "                \n",
    "                #Loading and Normalizing the target frame\n",
    "                #img_y = cv2.imread(img_y_path.rstrip(\"\\n\"))\n",
    "                #img_y = img_y/255.0\n",
    "                \n",
    "                #Packing and adding the inputs and targets into the batch\n",
    "                X_train.append(img_x)\n",
    "                   \n",
    "                batchcount += 1    \n",
    "                    \n",
    "                if batchcount == batch_size:\n",
    "                    X_train = np.asarray(X_train)\n",
    "                    yield(X_train)\n",
    "                    X_train = []\n",
    "                    batchcount = 0"
   ]
  },
  {
   "cell_type": "code",
   "execution_count": 9,
   "metadata": {},
   "outputs": [],
   "source": [
    "def train_y_generator(csv_path, batch_size):\n",
    "    y_train = []\n",
    "    batchcount = 0\n",
    "    \n",
    "    while True: #Keeping the generator running\n",
    "        with open(csv_path) as f:\n",
    "            next(f) #Skipping the header\n",
    "            for line in f:\n",
    "                img_x_path, throttle, steering_angle, img_y_path = line.split(',')\n",
    "                \n",
    "                #Loading and Normalizing the input frame\n",
    "                #img_x = imread(str(img_x_path))\n",
    "                #img_x = img_x/255.0\n",
    "                \n",
    "                #Packing the motor input into a numpy array\n",
    "                motor_input = np.asarray([throttle, steering_angle])\n",
    "                \n",
    "                #Loading and Normalizing the target frame\n",
    "                img_y = cv2.imread(img_y_path.rstrip(\"\\n\"))\n",
    "                img_y = img_y/255.0\n",
    "                \n",
    "                #Packing and adding the inputs and targets into the batch\n",
    "                y_train.append(img_y)\n",
    "                   \n",
    "                batchcount += 1    \n",
    "                    \n",
    "                if batchcount == batch_size:\n",
    "                    y_train = np.asarray(y_train)\n",
    "                    yield(y_train)\n",
    "                    y_train = []\n",
    "                    batchcount = 0"
   ]
  },
  {
   "cell_type": "code",
   "execution_count": 10,
   "metadata": {},
   "outputs": [],
   "source": [
    "def motor_parser(csv_path):\n",
    "    motor_input = []\n",
    "    f = open(csv_path)\n",
    "    next(f)\n",
    "    for line in f:\n",
    "        img_x_path, throttle, steering_angle, img_y_path = line.split(',')\n",
    "        motor_input.append(np.asarray([throttle, steering_angle]))\n",
    "    return np.asarray(motor_input)        "
   ]
  },
  {
   "cell_type": "markdown",
   "metadata": {},
   "source": [
    "# Defining the model"
   ]
  },
  {
   "cell_type": "code",
   "execution_count": 11,
   "metadata": {},
   "outputs": [],
   "source": [
    "from tensorflow import keras\n",
    "import tensorflow as tf\n",
    "from keras import layers\n",
    "#tf.config.experimental_run_functions_eagerly(True)\n",
    "#tf.compat.v1.disable_eager_execution()"
   ]
  },
  {
   "cell_type": "code",
   "execution_count": 12,
   "metadata": {
    "scrolled": true
   },
   "outputs": [],
   "source": [
    "from keras.layers import Lambda, Conv2D, Conv2DTranspose, Dense, Input, Flatten, Concatenate, Reshape, BatchNormalization, Dropout, MaxPooling2D, UpSampling2D, LeakyReLU\n",
    "from keras.activations import relu, linear, selu\n",
    "from keras import Model\n",
    "from keras import backend as K\n",
    "from keras.losses import mae \n",
    "from keras.callbacks import TensorBoard"
   ]
  },
  {
   "cell_type": "code",
   "execution_count": null,
   "metadata": {
    "scrolled": false
   },
   "outputs": [],
   "source": [
    "image_input = Input(shape=(112,112,3))\n",
    "x = Conv2D(8, (3,3), activation = selu, padding = 'same', use_bias = False, kernel_initializer=keras.initializers.he_uniform())(image_input)\n",
    "x = BatchNormalization()(x)\n",
    "x = MaxPooling2D()(x)\n",
    "x = Conv2D(16, (3,3), activation = selu, padding = 'same', use_bias = False, kernel_initializer=keras.initializers.he_uniform())(x)\n",
    "x = BatchNormalization()(x)\n",
    "x = MaxPooling2D()(x)\n",
    "x = Conv2D(32, (3,3), activation = selu, padding = 'same', use_bias = False, kernel_initializer=keras.initializers.he_uniform())(x)\n",
    "x = BatchNormalization()(x)\n",
    "x = MaxPooling2D()(x)\n",
    "x = Conv2D(64, (3,3), activation = selu, padding = 'same', use_bias = False, kernel_initializer=keras.initializers.he_uniform())(x)\n",
    "x = BatchNormalization()(x)\n",
    "x = MaxPooling2D()(x)\n",
    "x = Flatten()(x)\n",
    "\n",
    "z = Dense(128, activation = 'sigmoid')(x)\n",
    "\n",
    "encoder = Model(inputs= [image_input], outputs = [z])\n",
    "\n",
    "encoder.summary()"
   ]
  },
  {
   "cell_type": "code",
   "execution_count": 14,
   "metadata": {},
   "outputs": [],
   "source": [
    "input_decoder = Input(shape=(128,))\n",
    "\n",
    "dense_1= Dense(3136, activation = selu, activity_regularizer = keras.regularizers.l2(1e-4), kernel_initializer=keras.initializers.he_uniform())(input_decoder)\n",
    "d = Reshape((7,7,64))(dense_1)\n",
    "d = UpSampling2D()(d)\n",
    "d = Conv2D(64,(3, 3), strides=1, activation= selu, padding='same', use_bias = False, kernel_initializer=keras.initializers.he_uniform())(d)\n",
    "d = BatchNormalization()(d)\n",
    "d = UpSampling2D()(d)\n",
    "d = Conv2D(32,(3, 3), strides=1, activation= selu, padding='same', use_bias = False, kernel_initializer=keras.initializers.he_uniform())(d)\n",
    "d = BatchNormalization()(d)\n",
    "d = UpSampling2D()(d)\n",
    "d = Conv2D(16,(3, 3), strides=1, activation= selu, padding='same', use_bias = False, kernel_initializer=keras.initializers.he_uniform())(d)\n",
    "d = BatchNormalization()(d)\n",
    "d = UpSampling2D()(d)\n",
    "d = Conv2D(8,(3, 3), strides=1, activation= selu, padding='same', use_bias = False, kernel_initializer=keras.initializers.he_uniform())(d)\n",
    "d = BatchNormalization()(d)\n",
    "decoded = Conv2D(3, (3, 3), strides = 1, activation='linear', padding='same')(d)\n",
    "\n",
    "Decoder = Model(inputs = input_decoder, outputs = decoded)"
   ]
  },
  {
   "cell_type": "code",
   "execution_count": 15,
   "metadata": {
    "scrolled": false
   },
   "outputs": [
    {
     "name": "stdout",
     "output_type": "stream",
     "text": [
      "Model: \"model_1\"\n",
      "_________________________________________________________________\n",
      "Layer (type)                 Output Shape              Param #   \n",
      "=================================================================\n",
      "input_2 (InputLayer)         [(None, 128)]             0         \n",
      "_________________________________________________________________\n",
      "dense_1 (Dense)              (None, 3136)              404544    \n",
      "_________________________________________________________________\n",
      "reshape (Reshape)            (None, 7, 7, 64)          0         \n",
      "_________________________________________________________________\n",
      "up_sampling2d (UpSampling2D) (None, 14, 14, 64)        0         \n",
      "_________________________________________________________________\n",
      "conv2d_4 (Conv2D)            (None, 14, 14, 64)        36864     \n",
      "_________________________________________________________________\n",
      "batch_normalization_4 (Batch (None, 14, 14, 64)        256       \n",
      "_________________________________________________________________\n",
      "up_sampling2d_1 (UpSampling2 (None, 28, 28, 64)        0         \n",
      "_________________________________________________________________\n",
      "conv2d_5 (Conv2D)            (None, 28, 28, 32)        18432     \n",
      "_________________________________________________________________\n",
      "batch_normalization_5 (Batch (None, 28, 28, 32)        128       \n",
      "_________________________________________________________________\n",
      "up_sampling2d_2 (UpSampling2 (None, 56, 56, 32)        0         \n",
      "_________________________________________________________________\n",
      "conv2d_6 (Conv2D)            (None, 56, 56, 16)        4608      \n",
      "_________________________________________________________________\n",
      "batch_normalization_6 (Batch (None, 56, 56, 16)        64        \n",
      "_________________________________________________________________\n",
      "up_sampling2d_3 (UpSampling2 (None, 112, 112, 16)      0         \n",
      "_________________________________________________________________\n",
      "conv2d_7 (Conv2D)            (None, 112, 112, 8)       1152      \n",
      "_________________________________________________________________\n",
      "batch_normalization_7 (Batch (None, 112, 112, 8)       32        \n",
      "_________________________________________________________________\n",
      "conv2d_8 (Conv2D)            (None, 112, 112, 3)       219       \n",
      "=================================================================\n",
      "Total params: 466,299\n",
      "Trainable params: 466,059\n",
      "Non-trainable params: 240\n",
      "_________________________________________________________________\n"
     ]
    }
   ],
   "source": [
    "Decoder.summary()"
   ]
  },
  {
   "cell_type": "markdown",
   "metadata": {},
   "source": [
    "# Creating the autoencoder"
   ]
  },
  {
   "cell_type": "code",
   "execution_count": 16,
   "metadata": {},
   "outputs": [],
   "source": [
    "img_input = Input(shape=(112, 112, 3))\n",
    "Encoded = encoder([img_input])\n",
    "Decoded = Decoder(Encoded)\n",
    "\n",
    "autoencoder = Model(inputs = [img_input], outputs = Decoded)"
   ]
  },
  {
   "cell_type": "code",
   "execution_count": 18,
   "metadata": {
    "scrolled": false
   },
   "outputs": [
    {
     "name": "stdout",
     "output_type": "stream",
     "text": [
      "Model: \"model_2\"\n",
      "_________________________________________________________________\n",
      "Layer (type)                 Output Shape              Param #   \n",
      "=================================================================\n",
      "input_3 (InputLayer)         [(None, 112, 112, 3)]     0         \n",
      "_________________________________________________________________\n",
      "model (Model)                (None, 128)               426424    \n",
      "_________________________________________________________________\n",
      "model_1 (Model)              (None, 112, 112, 3)       466299    \n",
      "=================================================================\n",
      "Total params: 892,723\n",
      "Trainable params: 892,243\n",
      "Non-trainable params: 480\n",
      "_________________________________________________________________\n"
     ]
    }
   ],
   "source": [
    "autoencoder.summary()"
   ]
  },
  {
   "cell_type": "markdown",
   "metadata": {},
   "source": [
    "# Autoencoder training"
   ]
  },
  {
   "cell_type": "code",
   "execution_count": 19,
   "metadata": {},
   "outputs": [],
   "source": [
    "def SSIM_l1_loss(y_true, y_pred):\n",
    "    return 1 - tf.reduce_mean(tf.image.ssim_multiscale(y_true,y_pred, max_val=1, filter_size=3)) + mae(y_true, y_pred)"
   ]
  },
  {
   "cell_type": "code",
   "execution_count": 18,
   "metadata": {},
   "outputs": [],
   "source": [
    "autoencoder.compile(loss = SSIM_l1_loss, optimizer= keras.optimizers.Adam(learning_rate=1e-3)) "
   ]
  },
  {
   "cell_type": "code",
   "execution_count": 19,
   "metadata": {},
   "outputs": [],
   "source": [
    "tensorboard = TensorBoard(log_dir='./logs', histogram_freq=1)"
   ]
  },
  {
   "cell_type": "code",
   "execution_count": 20,
   "metadata": {
    "scrolled": true
   },
   "outputs": [
    {
     "name": "stdout",
     "output_type": "stream",
     "text": [
      "Epoch 1/39\n",
      "2299/2298 [==============================] - 161s 70ms/step - loss: 0.5402 - val_loss: 0.3242\n",
      "Epoch 2/39\n",
      "2299/2298 [==============================] - 162s 70ms/step - loss: 0.4800 - val_loss: 0.3002\n",
      "Epoch 3/39\n",
      "2299/2298 [==============================] - 162s 71ms/step - loss: 0.4631 - val_loss: 0.3030\n",
      "Epoch 4/39\n",
      "2299/2298 [==============================] - 162s 71ms/step - loss: 0.4524 - val_loss: 0.3040\n",
      "Epoch 5/39\n",
      "2299/2298 [==============================] - 162s 71ms/step - loss: 0.4493 - val_loss: 0.3114\n",
      "Epoch 6/39\n",
      "2299/2298 [==============================] - 163s 71ms/step - loss: 0.4376 - val_loss: 0.3061\n",
      "Epoch 7/39\n",
      "2299/2298 [==============================] - 163s 71ms/step - loss: 0.4302 - val_loss: 0.2991\n",
      "Epoch 8/39\n",
      "2299/2298 [==============================] - 163s 71ms/step - loss: 0.4270 - val_loss: 0.2929\n",
      "Epoch 9/39\n",
      "2299/2298 [==============================] - 164s 71ms/step - loss: 0.4227 - val_loss: 0.2916\n",
      "Epoch 10/39\n",
      "2299/2298 [==============================] - 164s 71ms/step - loss: 0.4203 - val_loss: 0.3078\n",
      "Epoch 11/39\n",
      "2299/2298 [==============================] - 164s 71ms/step - loss: 0.4173 - val_loss: 0.2907\n",
      "Epoch 12/39\n",
      "2299/2298 [==============================] - 164s 71ms/step - loss: 0.4145 - val_loss: 0.3012\n",
      "Epoch 13/39\n",
      "2299/2298 [==============================] - 164s 71ms/step - loss: 0.4106 - val_loss: 0.2979\n",
      "Epoch 14/39\n",
      "2299/2298 [==============================] - 164s 71ms/step - loss: 0.4037 - val_loss: 0.2880\n",
      "Epoch 15/39\n",
      "2299/2298 [==============================] - 164s 71ms/step - loss: 0.3723 - val_loss: 0.2544\n",
      "Epoch 16/39\n",
      "2299/2298 [==============================] - 164s 71ms/step - loss: 0.3444 - val_loss: 0.2552\n",
      "Epoch 17/39\n",
      "2299/2298 [==============================] - 164s 72ms/step - loss: 0.3288 - val_loss: 0.2419\n",
      "Epoch 18/39\n",
      "2299/2298 [==============================] - 164s 71ms/step - loss: 0.3187 - val_loss: 0.2227\n",
      "Epoch 19/39\n",
      "2299/2298 [==============================] - 164s 71ms/step - loss: 0.3120 - val_loss: 0.2231\n",
      "Epoch 20/39\n",
      "2299/2298 [==============================] - 164s 71ms/step - loss: 0.3063 - val_loss: 0.2179\n",
      "Epoch 21/39\n",
      "2299/2298 [==============================] - 164s 71ms/step - loss: 0.3017 - val_loss: 0.2195\n",
      "Epoch 22/39\n",
      "2299/2298 [==============================] - 164s 71ms/step - loss: 0.2972 - val_loss: 0.2136\n",
      "Epoch 23/39\n",
      "2299/2298 [==============================] - 164s 71ms/step - loss: 0.2934 - val_loss: 0.2085\n",
      "Epoch 24/39\n",
      "2299/2298 [==============================] - 164s 71ms/step - loss: 0.2870 - val_loss: 0.2157\n",
      "Epoch 25/39\n",
      "2299/2298 [==============================] - 164s 71ms/step - loss: 0.2808 - val_loss: 0.2010\n",
      "Epoch 26/39\n",
      "2299/2298 [==============================] - 164s 71ms/step - loss: 0.2765 - val_loss: 0.2100\n",
      "Epoch 27/39\n",
      "2299/2298 [==============================] - 164s 71ms/step - loss: 0.2738 - val_loss: 0.2117\n",
      "Epoch 28/39\n",
      "2299/2298 [==============================] - 164s 71ms/step - loss: 0.2724 - val_loss: 0.2010\n",
      "Epoch 29/39\n",
      "2299/2298 [==============================] - 164s 71ms/step - loss: 0.2690 - val_loss: 0.1982\n",
      "Epoch 30/39\n",
      "2299/2298 [==============================] - 164s 71ms/step - loss: 0.2667 - val_loss: 0.1896\n",
      "Epoch 31/39\n",
      "2299/2298 [==============================] - 165s 72ms/step - loss: 0.2651 - val_loss: 0.1950\n",
      "Epoch 32/39\n",
      "2299/2298 [==============================] - 164s 72ms/step - loss: 0.2636 - val_loss: 0.1881\n",
      "Epoch 33/39\n",
      "2299/2298 [==============================] - 164s 71ms/step - loss: 0.2626 - val_loss: 0.1972\n",
      "Epoch 34/39\n",
      "2299/2298 [==============================] - 164s 71ms/step - loss: 0.2609 - val_loss: 0.1949\n",
      "Epoch 35/39\n",
      "2299/2298 [==============================] - 164s 71ms/step - loss: 0.2592 - val_loss: 0.2008\n",
      "Epoch 36/39\n",
      "2299/2298 [==============================] - 164s 71ms/step - loss: 0.2589 - val_loss: 0.2174\n",
      "Epoch 37/39\n",
      "2299/2298 [==============================] - 164s 72ms/step - loss: 0.2578 - val_loss: 0.1884\n",
      "Epoch 38/39\n",
      "2299/2298 [==============================] - 165s 72ms/step - loss: 0.2566 - val_loss: 0.1829\n",
      "Epoch 39/39\n",
      "2299/2298 [==============================] - 164s 72ms/step - loss: 0.2550 - val_loss: 0.1813\n"
     ]
    },
    {
     "data": {
      "text/plain": [
       "<tensorflow.python.keras.callbacks.History at 0x7f2729c70510>"
      ]
     },
     "execution_count": 20,
     "metadata": {},
     "output_type": "execute_result"
    }
   ],
   "source": [
    "autoencoder.fit(generator(train_csv_path, batch_size), steps_per_epoch = train_sample_size/batch_size, epochs = 39, validation_data= generator(val_csv_path, batch_size), validation_steps= val_sample_size/batch_size, callbacks= [tensorboard])"
   ]
  },
  {
   "cell_type": "code",
   "execution_count": 21,
   "metadata": {},
   "outputs": [],
   "source": [
    "autoencoder.save_weights(\"autoencoder_babbling_sigmoid_regularized.h5\")"
   ]
  },
  {
   "cell_type": "markdown",
   "metadata": {},
   "source": [
    "# Let's check out the prediction for the first image"
   ]
  },
  {
   "cell_type": "code",
   "execution_count": 21,
   "metadata": {},
   "outputs": [
    {
     "data": {
      "text/plain": [
       "'img_x,throttle,steer,img_y\\n'"
      ]
     },
     "execution_count": 21,
     "metadata": {},
     "output_type": "execute_result"
    }
   ],
   "source": [
    "csv_file = open(train_csv_path)\n",
    "next(csv_file)"
   ]
  },
  {
   "cell_type": "code",
   "execution_count": 34,
   "metadata": {},
   "outputs": [],
   "source": [
    "img_x_path, throttle, steering_angle, img_y_path = next(csv_file).split(',')"
   ]
  },
  {
   "cell_type": "code",
   "execution_count": 35,
   "metadata": {},
   "outputs": [],
   "source": [
    "showed_image = imread(img_x_path)"
   ]
  },
  {
   "cell_type": "code",
   "execution_count": 36,
   "metadata": {
    "scrolled": false
   },
   "outputs": [
    {
     "data": {
      "text/plain": [
       "<matplotlib.image.AxesImage at 0x7fde100bfc90>"
      ]
     },
     "execution_count": 36,
     "metadata": {},
     "output_type": "execute_result"
    },
    {
     "data": {
      "image/png": "[encoded data removed]",
      "text/plain": [
       "<Figure size 432x288 with 1 Axes>"
      ]
     },
     "metadata": {
      "needs_background": "light"
     },
     "output_type": "display_data"
    }
   ],
   "source": [
    "plt.imshow(showed_image)"
   ]
  },
  {
   "cell_type": "code",
   "execution_count": 37,
   "metadata": {},
   "outputs": [],
   "source": [
    "img = imread(img_x_path)\n",
    "img = img/255.0\n",
    "img = img.reshape([1,112,112,3])"
   ]
  },
  {
   "cell_type": "code",
   "execution_count": 38,
   "metadata": {},
   "outputs": [],
   "source": [
    "result = autoencoder.predict(img)"
   ]
  },
  {
   "cell_type": "code",
   "execution_count": 39,
   "metadata": {
    "scrolled": false
   },
   "outputs": [
    {
     "name": "stderr",
     "output_type": "stream",
     "text": [
      "Clipping input data to the valid range for imshow with RGB data ([0..1] for floats or [0..255] for integers).\n"
     ]
    },
    {
     "data": {
      "text/plain": [
       "<matplotlib.image.AxesImage at 0x7fde10058ed0>"
      ]
     },
     "execution_count": 39,
     "metadata": {},
     "output_type": "execute_result"
    },
    {
     "data": {
      "image/png": "[encoded data removed]",
      "text/plain": [
       "<Figure size 432x288 with 1 Axes>"
      ]
     },
     "metadata": {
      "needs_background": "light"
     },
     "output_type": "display_data"
    }
   ],
   "source": [
    "plt.imshow(result.reshape([112,112,3]))"
   ]
  },
  {
   "cell_type": "markdown",
   "metadata": {},
   "source": [
    "# Building the motor babbling MLP"
   ]
  },
  {
   "cell_type": "code",
   "execution_count": 20,
   "metadata": {
    "scrolled": false
   },
   "outputs": [],
   "source": [
    "autoencoder.load_weights(\"/home/houcem/Documents/Models/autoencoder_babbling_sigmoid_regularized.h5\") "
   ]
  },
  {
   "cell_type": "code",
   "execution_count": 54,
   "metadata": {},
   "outputs": [],
   "source": [
    "autoencoder.trainable = False"
   ]
  },
  {
   "cell_type": "code",
   "execution_count": 40,
   "metadata": {},
   "outputs": [],
   "source": [
    "latent_input = Input(shape=(128,))\n",
    "\n",
    "motor_input = Input(shape=(2,))\n",
    "\n",
    "babbling_input = Concatenate()([latent_input, motor_input])\n",
    "\n",
    "z = Dense(512, activation = selu, activity_regularizer= keras.regularizers.l2(1e-4), kernel_initializer = keras.initializers.he_uniform())(babbling_input)\n",
    "z = Dense(128, activation = 'sigmoid')(z)\n",
    "\n",
    "babbling_mlp = Model(inputs = [latent_input, motor_input], outputs = z)"
   ]
  },
  {
   "cell_type": "code",
   "execution_count": 41,
   "metadata": {
    "scrolled": true
   },
   "outputs": [
    {
     "name": "stdout",
     "output_type": "stream",
     "text": [
      "Model: \"model_3\"\n",
      "__________________________________________________________________________________________________\n",
      "Layer (type)                    Output Shape         Param #     Connected to                     \n",
      "==================================================================================================\n",
      "input_4 (InputLayer)            [(None, 128)]        0                                            \n",
      "__________________________________________________________________________________________________\n",
      "input_5 (InputLayer)            [(None, 2)]          0                                            \n",
      "__________________________________________________________________________________________________\n",
      "concatenate (Concatenate)       (None, 130)          0           input_4[0][0]                    \n",
      "                                                                 input_5[0][0]                    \n",
      "__________________________________________________________________________________________________\n",
      "dense_2 (Dense)                 (None, 512)          67072       concatenate[0][0]                \n",
      "__________________________________________________________________________________________________\n",
      "dense_3 (Dense)                 (None, 128)          65664       dense_2[0][0]                    \n",
      "==================================================================================================\n",
      "Total params: 132,736\n",
      "Trainable params: 132,736\n",
      "Non-trainable params: 0\n",
      "__________________________________________________________________________________________________\n"
     ]
    }
   ],
   "source": [
    "babbling_mlp.summary()"
   ]
  },
  {
   "cell_type": "markdown",
   "metadata": {},
   "source": [
    "# Let's train it and see the results "
   ]
  },
  {
   "cell_type": "code",
   "execution_count": 42,
   "metadata": {},
   "outputs": [],
   "source": [
    "babbling_mlp.compile(loss = 'mse', optimizer = keras.optimizers.Adam(learning_rate=1e-4))"
   ]
  },
  {
   "cell_type": "code",
   "execution_count": 43,
   "metadata": {
    "scrolled": true
   },
   "outputs": [],
   "source": [
    "train_X = encoder.predict(train_generator(path, batch_size), steps = train_sample_size/batch_size)"
   ]
  },
  {
   "cell_type": "code",
   "execution_count": 44,
   "metadata": {},
   "outputs": [],
   "source": [
    "train_X = train_X[0:50000,:]"
   ]
  },
  {
   "cell_type": "code",
   "execution_count": 45,
   "metadata": {},
   "outputs": [],
   "source": [
    "train_y = encoder.predict(train_y_generator(path, batch_size), steps = train_sample_size/batch_size)"
   ]
  },
  {
   "cell_type": "code",
   "execution_count": 46,
   "metadata": {},
   "outputs": [],
   "source": [
    "train_y = train_y[0:50000, :]"
   ]
  },
  {
   "cell_type": "code",
   "execution_count": 47,
   "metadata": {},
   "outputs": [],
   "source": [
    "import pickle\n",
    "\n",
    "data = open(\"/home/houcem/data/motor_output.p\", \"rb+\")\n",
    "unpickler = pickle.Unpickler(data)\n",
    "training = unpickler.load()\n",
    "data.close()"
   ]
  },
  {
   "cell_type": "code",
   "execution_count": 48,
   "metadata": {},
   "outputs": [],
   "source": [
    "training = np.asarray(training)"
   ]
  },
  {
   "cell_type": "code",
   "execution_count": 49,
   "metadata": {
    "scrolled": true
   },
   "outputs": [
    {
     "name": "stdout",
     "output_type": "stream",
     "text": [
      "Epoch 1/4\n",
      "1563/1563 [==============================] - 2s 1ms/step - loss: 0.0162\n",
      "Epoch 2/4\n",
      "1563/1563 [==============================] - 2s 1ms/step - loss: 0.0020\n",
      "Epoch 3/4\n",
      "1563/1563 [==============================] - 2s 1ms/step - loss: 0.0011\n",
      "Epoch 4/4\n",
      "1563/1563 [==============================] - 2s 1ms/step - loss: 7.3138e-04\n"
     ]
    },
    {
     "data": {
      "text/plain": [
       "<tensorflow.python.keras.callbacks.History at 0x7fddac67fe10>"
      ]
     },
     "execution_count": 49,
     "metadata": {},
     "output_type": "execute_result"
    }
   ],
   "source": [
    "babbling_mlp.fit(x=[train_X, training], y= train_y, epochs=4)"
   ]
  },
  {
   "cell_type": "code",
   "execution_count": 50,
   "metadata": {},
   "outputs": [],
   "source": [
    "img_input = Input(shape=(112, 112, 3), name = \"img\")\n",
    "motor_input = Input(shape=(2,), name = \"motor\")\n",
    "\n",
    "Encoded = encoder([img_input])\n",
    "babbling = babbling_mlp([Encoded, motor_input])\n",
    "Decoded = Decoder(babbling)\n",
    "\n",
    "babbling_model = Model(inputs = [img_input, motor_input], outputs = Decoded)"
   ]
  },
  {
   "cell_type": "markdown",
   "metadata": {},
   "source": [
    "# Let's finetune the entire model"
   ]
  },
  {
   "cell_type": "code",
   "execution_count": 299,
   "metadata": {},
   "outputs": [],
   "source": [
    "encoder.trainable = False"
   ]
  },
  {
   "cell_type": "code",
   "execution_count": 51,
   "metadata": {},
   "outputs": [],
   "source": [
    "babbling_model.compile(loss = SSIM_l1_loss, optimizer = keras.optimizers.Adam(learning_rate = 1e-5))"
   ]
  },
  {
   "cell_type": "code",
   "execution_count": 52,
   "metadata": {
    "scrolled": true
   },
   "outputs": [
    {
     "name": "stdout",
     "output_type": "stream",
     "text": [
      "Epoch 1/15\n",
      "2299/2298 [==============================] - 186s 81ms/step - loss: 0.5414 - val_loss: 0.3517\n",
      "Epoch 2/15\n",
      "2299/2298 [==============================] - 183s 80ms/step - loss: 0.4938 - val_loss: 0.3079\n",
      "Epoch 3/15\n",
      "2299/2298 [==============================] - 184s 80ms/step - loss: 0.4545 - val_loss: 0.2931\n",
      "Epoch 4/15\n",
      "2299/2298 [==============================] - 185s 80ms/step - loss: 0.4361 - val_loss: 0.2845\n",
      "Epoch 5/15\n",
      "2299/2298 [==============================] - 184s 80ms/step - loss: 0.4242 - val_loss: 0.2800\n",
      "Epoch 6/15\n",
      "2299/2298 [==============================] - 184s 80ms/step - loss: 0.4156 - val_loss: 0.2766\n",
      "Epoch 7/15\n",
      "2299/2298 [==============================] - 184s 80ms/step - loss: 0.4084 - val_loss: 0.2730\n",
      "Epoch 8/15\n",
      "2299/2298 [==============================] - 186s 81ms/step - loss: 0.4027 - val_loss: 0.2709\n",
      "Epoch 9/15\n",
      "2299/2298 [==============================] - 185s 80ms/step - loss: 0.3980 - val_loss: 0.2702\n",
      "Epoch 10/15\n",
      "2299/2298 [==============================] - 180s 78ms/step - loss: 0.3939 - val_loss: 0.2688\n",
      "Epoch 11/15\n",
      "2299/2298 [==============================] - 184s 80ms/step - loss: 0.3904 - val_loss: 0.2687\n",
      "Epoch 12/15\n",
      "2299/2298 [==============================] - 184s 80ms/step - loss: 0.3870 - val_loss: 0.2678\n",
      "Epoch 13/15\n",
      "2299/2298 [==============================] - 184s 80ms/step - loss: 0.3844 - val_loss: 0.2670\n",
      "Epoch 14/15\n",
      "2299/2298 [==============================] - 184s 80ms/step - loss: 0.3815 - val_loss: 0.2672\n",
      "Epoch 15/15\n",
      "2299/2298 [==============================] - 184s 80ms/step - loss: 0.3795 - val_loss: 0.2644\n"
     ]
    },
    {
     "data": {
      "text/plain": [
       "<tensorflow.python.keras.callbacks.History at 0x7fde1806ce90>"
      ]
     },
     "execution_count": 52,
     "metadata": {},
     "output_type": "execute_result"
    }
   ],
   "source": [
    "babbling_model.fit(babbling_generator(train_csv_path, batch_size), steps_per_epoch= train_sample_size/batch_size, validation_data=babbling_generator(val_csv_path,batch_size), validation_steps=val_sample_size/batch_size, epochs = 15)"
   ]
  },
  {
   "cell_type": "code",
   "execution_count": 53,
   "metadata": {},
   "outputs": [],
   "source": [
    "babbling_model.save_weights(\"Model_v3.h5\")"
   ]
  },
  {
   "cell_type": "code",
   "execution_count": 33,
   "metadata": {
    "scrolled": false
   },
   "outputs": [
    {
     "ename": "ValueError",
     "evalue": "Layer #1 (named \"model_10\" in the current model) was found to correspond to layer model_6 in the save file. However the new layer model_10 expects 6 weights, but the saved weights have 4 elements.",
     "output_type": "error",
     "traceback": [
      "\u001b[0;31m---------------------------------------------------------------------------\u001b[0m",
      "\u001b[0;31mValueError\u001b[0m                                Traceback (most recent call last)",
      "\u001b[0;32m<ipython-input-33-f1c953ce33b5>\u001b[0m in \u001b[0;36m<module>\u001b[0;34m\u001b[0m\n\u001b[0;32m----> 1\u001b[0;31m \u001b[0mbabbling_model\u001b[0m\u001b[0;34m.\u001b[0m\u001b[0mload_weights\u001b[0m\u001b[0;34m(\u001b[0m\u001b[0;34m\"babbling_model_direct_adam.h5\"\u001b[0m\u001b[0;34m)\u001b[0m\u001b[0;34m\u001b[0m\u001b[0;34m\u001b[0m\u001b[0m\n\u001b[0m",
      "\u001b[0;32m~/miniconda3/envs/carla/lib/python3.7/site-packages/tensorflow/python/keras/engine/training.py\u001b[0m in \u001b[0;36mload_weights\u001b[0;34m(self, filepath, by_name, skip_mismatch)\u001b[0m\n\u001b[1;32m    248\u001b[0m         raise ValueError('Load weights is not yet supported with TPUStrategy '\n\u001b[1;32m    249\u001b[0m                          'with steps_per_run greater than 1.')\n\u001b[0;32m--> 250\u001b[0;31m     \u001b[0;32mreturn\u001b[0m \u001b[0msuper\u001b[0m\u001b[0;34m(\u001b[0m\u001b[0mModel\u001b[0m\u001b[0;34m,\u001b[0m \u001b[0mself\u001b[0m\u001b[0;34m)\u001b[0m\u001b[0;34m.\u001b[0m\u001b[0mload_weights\u001b[0m\u001b[0;34m(\u001b[0m\u001b[0mfilepath\u001b[0m\u001b[0;34m,\u001b[0m \u001b[0mby_name\u001b[0m\u001b[0;34m,\u001b[0m \u001b[0mskip_mismatch\u001b[0m\u001b[0;34m)\u001b[0m\u001b[0;34m\u001b[0m\u001b[0;34m\u001b[0m\u001b[0m\n\u001b[0m\u001b[1;32m    251\u001b[0m \u001b[0;34m\u001b[0m\u001b[0m\n\u001b[1;32m    252\u001b[0m   def compile(self,\n",
      "\u001b[0;32m~/miniconda3/envs/carla/lib/python3.7/site-packages/tensorflow/python/keras/engine/network.py\u001b[0m in \u001b[0;36mload_weights\u001b[0;34m(self, filepath, by_name, skip_mismatch)\u001b[0m\n\u001b[1;32m   1264\u001b[0m             f, self.layers, skip_mismatch=skip_mismatch)\n\u001b[1;32m   1265\u001b[0m       \u001b[0;32melse\u001b[0m\u001b[0;34m:\u001b[0m\u001b[0;34m\u001b[0m\u001b[0;34m\u001b[0m\u001b[0m\n\u001b[0;32m-> 1266\u001b[0;31m         \u001b[0mhdf5_format\u001b[0m\u001b[0;34m.\u001b[0m\u001b[0mload_weights_from_hdf5_group\u001b[0m\u001b[0;34m(\u001b[0m\u001b[0mf\u001b[0m\u001b[0;34m,\u001b[0m \u001b[0mself\u001b[0m\u001b[0;34m.\u001b[0m\u001b[0mlayers\u001b[0m\u001b[0;34m)\u001b[0m\u001b[0;34m\u001b[0m\u001b[0;34m\u001b[0m\u001b[0m\n\u001b[0m\u001b[1;32m   1267\u001b[0m \u001b[0;34m\u001b[0m\u001b[0m\n\u001b[1;32m   1268\u001b[0m   \u001b[0;32mdef\u001b[0m \u001b[0m_updated_config\u001b[0m\u001b[0;34m(\u001b[0m\u001b[0mself\u001b[0m\u001b[0;34m)\u001b[0m\u001b[0;34m:\u001b[0m\u001b[0;34m\u001b[0m\u001b[0;34m\u001b[0m\u001b[0m\n",
      "\u001b[0;32m~/miniconda3/envs/carla/lib/python3.7/site-packages/tensorflow/python/keras/saving/hdf5_format.py\u001b[0m in \u001b[0;36mload_weights_from_hdf5_group\u001b[0;34m(f, layers)\u001b[0m\n\u001b[1;32m    703\u001b[0m                        \u001b[0mstr\u001b[0m\u001b[0;34m(\u001b[0m\u001b[0mlen\u001b[0m\u001b[0;34m(\u001b[0m\u001b[0msymbolic_weights\u001b[0m\u001b[0;34m)\u001b[0m\u001b[0;34m)\u001b[0m \u001b[0;34m+\u001b[0m\u001b[0;34m\u001b[0m\u001b[0;34m\u001b[0m\u001b[0m\n\u001b[1;32m    704\u001b[0m                        \u001b[0;34m' weights, but the saved weights have '\u001b[0m \u001b[0;34m+\u001b[0m\u001b[0;34m\u001b[0m\u001b[0;34m\u001b[0m\u001b[0m\n\u001b[0;32m--> 705\u001b[0;31m                        str(len(weight_values)) + ' elements.')\n\u001b[0m\u001b[1;32m    706\u001b[0m     \u001b[0mweight_value_tuples\u001b[0m \u001b[0;34m+=\u001b[0m \u001b[0mzip\u001b[0m\u001b[0;34m(\u001b[0m\u001b[0msymbolic_weights\u001b[0m\u001b[0;34m,\u001b[0m \u001b[0mweight_values\u001b[0m\u001b[0;34m)\u001b[0m\u001b[0;34m\u001b[0m\u001b[0;34m\u001b[0m\u001b[0m\n\u001b[1;32m    707\u001b[0m   \u001b[0mK\u001b[0m\u001b[0;34m.\u001b[0m\u001b[0mbatch_set_value\u001b[0m\u001b[0;34m(\u001b[0m\u001b[0mweight_value_tuples\u001b[0m\u001b[0;34m)\u001b[0m\u001b[0;34m\u001b[0m\u001b[0;34m\u001b[0m\u001b[0m\n",
      "\u001b[0;31mValueError\u001b[0m: Layer #1 (named \"model_10\" in the current model) was found to correspond to layer model_6 in the save file. However the new layer model_10 expects 6 weights, but the saved weights have 4 elements."
     ]
    }
   ],
   "source": [
    "babbling_model.load_weights(\"babbling_model_direct_adam.h5\")"
   ]
  },
  {
   "cell_type": "code",
   "execution_count": null,
   "metadata": {},
   "outputs": [],
   "source": []
  },
  {
   "cell_type": "code",
   "execution_count": 36,
   "metadata": {},
   "outputs": [],
   "source": [
    "x_paths = sorted(glob.glob(\"/home/houcem/data_val/rgb/*.png\"))"
   ]
  },
  {
   "cell_type": "code",
   "execution_count": 37,
   "metadata": {},
   "outputs": [],
   "source": [
    "def display_results(x_paths, training, predictions, i):\n",
    "    fig, ax = plt.subplots(nrows = 1, ncols = 3, figsize=(10,18))\n",
    "    \n",
    "    #Showing the image at instant t\n",
    "    img_t = imread(str(x_paths[i]))\n",
    "    ax.flat[0].imshow(img_t)\n",
    "    \n",
    "    #showing the image at instant t+1\n",
    "    img_t1 = imread(str(x_paths[i+1]))\n",
    "    ax.flat[1].imshow(img_t1)\n",
    "    \n",
    "    #showing the predicted image\n",
    "    ax.flat[2].imshow(predictions[i])\n",
    "    \n",
    "    plt.show()\n",
    "    \n",
    "    print('Throttle ', training[i][0])\n",
    "    print('Steering Angle', training[i][1])"
   ]
  },
  {
   "cell_type": "code",
   "execution_count": 38,
   "metadata": {},
   "outputs": [],
   "source": [
    "from ipywidgets import interact, fixed\n",
    "import ipywidgets as widgets"
   ]
  },
  {
   "cell_type": "code",
   "execution_count": 39,
   "metadata": {},
   "outputs": [
    {
     "ename": "NameError",
     "evalue": "name 'test' is not defined",
     "output_type": "error",
     "traceback": [
      "\u001b[0;31m---------------------------------------------------------------------------\u001b[0m",
      "\u001b[0;31mNameError\u001b[0m                                 Traceback (most recent call last)",
      "\u001b[0;32m<ipython-input-39-0d3c1f82fca1>\u001b[0m in \u001b[0;36m<module>\u001b[0;34m\u001b[0m\n\u001b[0;32m----> 1\u001b[0;31m \u001b[0minteract\u001b[0m\u001b[0;34m(\u001b[0m\u001b[0mdisplay_results\u001b[0m\u001b[0;34m,\u001b[0m \u001b[0mx_paths\u001b[0m\u001b[0;34m=\u001b[0m\u001b[0mfixed\u001b[0m\u001b[0;34m(\u001b[0m\u001b[0mx_paths\u001b[0m\u001b[0;34m)\u001b[0m\u001b[0;34m,\u001b[0m \u001b[0mtraining\u001b[0m\u001b[0;34m=\u001b[0m\u001b[0mfixed\u001b[0m\u001b[0;34m(\u001b[0m\u001b[0mtest\u001b[0m\u001b[0;34m)\u001b[0m\u001b[0;34m,\u001b[0m \u001b[0mpredictions\u001b[0m\u001b[0;34m=\u001b[0m\u001b[0mfixed\u001b[0m\u001b[0;34m(\u001b[0m\u001b[0mpredictions\u001b[0m\u001b[0;34m)\u001b[0m\u001b[0;34m,\u001b[0m \u001b[0mi\u001b[0m\u001b[0;34m=\u001b[0m\u001b[0mwidgets\u001b[0m\u001b[0;34m.\u001b[0m\u001b[0mIntSlider\u001b[0m\u001b[0;34m(\u001b[0m\u001b[0mmin\u001b[0m\u001b[0;34m=\u001b[0m\u001b[0;36m0\u001b[0m\u001b[0;34m,\u001b[0m \u001b[0mmax\u001b[0m\u001b[0;34m=\u001b[0m\u001b[0;36m9999\u001b[0m\u001b[0;34m,\u001b[0m \u001b[0mstep\u001b[0m\u001b[0;34m=\u001b[0m\u001b[0;36m1\u001b[0m\u001b[0;34m,\u001b[0m \u001b[0mvalue\u001b[0m\u001b[0;34m=\u001b[0m\u001b[0;36m10\u001b[0m\u001b[0;34m)\u001b[0m\u001b[0;34m)\u001b[0m\u001b[0;34m\u001b[0m\u001b[0;34m\u001b[0m\u001b[0m\n\u001b[0m",
      "\u001b[0;31mNameError\u001b[0m: name 'test' is not defined"
     ]
    }
   ],
   "source": [
    "interact(display_results, x_paths=fixed(x_paths), training=fixed(test), predictions=fixed(predictions), i=widgets.IntSlider(min=0, max=9999, step=1, value=10))"
   ]
  },
  {
   "cell_type": "code",
   "execution_count": null,
   "metadata": {},
   "outputs": [],
   "source": []
  }
 ],
 "metadata": {
  "kernelspec": {
   "display_name": "Python 3",
   "language": "python",
   "name": "python3"
  },
  "language_info": {
   "codemirror_mode": {
    "name": "ipython",
    "version": 3
   },
   "file_extension": ".py",
   "mimetype": "text/x-python",
   "name": "python",
   "nbconvert_exporter": "python",
   "pygments_lexer": "ipython3",
   "version": "3.7.9"
  }
 },
 "nbformat": 4,
 "nbformat_minor": 4
}
