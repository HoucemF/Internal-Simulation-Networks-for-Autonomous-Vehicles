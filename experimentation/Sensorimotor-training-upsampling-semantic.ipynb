{
 "cells": [
  {
   "cell_type": "code",
   "execution_count": 19,
   "metadata": {},
   "outputs": [],
   "source": [
    "import pickle\n",
    "import matplotlib.pyplot as plt\n",
    "import numpy as np\n",
    "import imageio\n",
    "import glob\n",
    "import cv2\n",
    "import skimage\n",
    "from imageio import imread\n",
    "import csv\n",
    "import math\n",
    "import ktrain\n",
    "from keras_lr_finder import LRFinder"
   ]
  },
  {
   "cell_type": "markdown",
   "metadata": {},
   "source": [
    "# Creating a generator to load and preprocess the images"
   ]
  },
  {
   "cell_type": "code",
   "execution_count": 2,
   "metadata": {},
   "outputs": [],
   "source": [
    "train_csv_path = \"/home/houcem/data/data_semantic.csv\"\n",
    "val_csv_path = \"/home/houcem/data_val/data.csv\"\n",
    "train_sample_size = sum(1 for row in open(train_csv_path))\n",
    "val_sample_size = sum(1 for row in open(val_csv_path))"
   ]
  },
  {
   "cell_type": "code",
   "execution_count": 3,
   "metadata": {},
   "outputs": [],
   "source": [
    "batch_size = 32"
   ]
  },
  {
   "cell_type": "code",
   "execution_count": 4,
   "metadata": {},
   "outputs": [],
   "source": [
    "def generator(csv_path, batch_size):\n",
    "    X_train = []\n",
    "    y_train = []\n",
    "    batchcount = 0\n",
    "    \n",
    "    while True: #Keeping the generator running\n",
    "        with open(csv_path) as f:\n",
    "            next(f) #Skipping the header\n",
    "            for line in f:\n",
    "                img_x_path, throttle, steering_angle, img_y_path = line.split(',')\n",
    "                \n",
    "                #Loading and Normalizing the input frame\n",
    "                img_x = imread(str(img_x_path))\n",
    "                img_x = img_x/255.0\n",
    "                \n",
    "                #Packing the motor input into a numpy array\n",
    "                motor_input = np.asarray([throttle, steering_angle])\n",
    "                \n",
    "                #Loading and Normalizing the target frame\n",
    "                #img_y = cv2.imread(img_y_path.rstrip(\"\\n\"))\n",
    "                #img_y = img_y/255.0\n",
    "                \n",
    "                #Packing and adding the inputs and targets into the batch\n",
    "                X_train.append(img_x)\n",
    "                y_train.append(img_x)\n",
    "                   \n",
    "                batchcount += 1    \n",
    "                    \n",
    "                if batchcount == batch_size:\n",
    "                    X_train = np.asarray(X_train)\n",
    "                    y_train = np.asarray(y_train)\n",
    "                    yield(X_train, y_train)\n",
    "                    X_train = []\n",
    "                    y_train = []\n",
    "                    batchcount = 0"
   ]
  },
  {
   "cell_type": "code",
   "execution_count": 5,
   "metadata": {},
   "outputs": [],
   "source": [
    "def babbling_generator(csv_path, batch_size):\n",
    "    X_train = []\n",
    "    y_train = []\n",
    "    motor_train = []\n",
    "    batchcount = 0\n",
    "    \n",
    "    while True: #Keeping the generator running\n",
    "        with open(csv_path) as f:\n",
    "            next(f) #Skipping the header\n",
    "            for line in f:\n",
    "                img_x_path, throttle, steering_angle, img_y_path = line.split(',')\n",
    "                \n",
    "                #Loading and Normalizing the input frame\n",
    "                img_x = imread(str(img_x_path))\n",
    "                img_x = img_x/255.0\n",
    "                \n",
    "                #Packing the motor input into a numpy array\n",
    "                motor_input = np.asarray([float(throttle), float(steering_angle)])\n",
    "                \n",
    "                #Loading and Normalizing the target frame\n",
    "                img_y = cv2.imread(str(img_y_path).rstrip(\"\\n\"))\n",
    "                img_y = img_y/255.0\n",
    "                \n",
    "                #Packing and adding the inputs and targets into the batch\n",
    "                X_train.append(img_x)\n",
    "                motor_train.append(motor_input)\n",
    "                y_train.append(img_y)\n",
    "                   \n",
    "                batchcount += 1    \n",
    "                    \n",
    "                if batchcount == batch_size:\n",
    "                    X_train = np.asarray(X_train)\n",
    "                    motor_train = np.asarray(motor_train)                    \n",
    "                    y_train = np.asarray(y_train)\n",
    "                    yield([X_train, motor_train], y_train)\n",
    "                    X_train = []\n",
    "                    y_train = []\n",
    "                    motor_train = []\n",
    "                    batchcount = 0"
   ]
  },
  {
   "cell_type": "markdown",
   "metadata": {},
   "source": [
    "# Defining the model"
   ]
  },
  {
   "cell_type": "code",
   "execution_count": 6,
   "metadata": {},
   "outputs": [],
   "source": [
    "from tensorflow import keras\n",
    "import tensorflow as tf\n",
    "from keras import layers\n",
    "#tf.config.experimental_run_functions_eagerly(True)\n",
    "#tf.compat.v1.disable_eager_execution()"
   ]
  },
  {
   "cell_type": "code",
   "execution_count": 7,
   "metadata": {
    "scrolled": true
   },
   "outputs": [],
   "source": [
    "from keras.layers import Lambda, Conv2D, Conv2DTranspose, Dense, Input, Flatten, Concatenate, Reshape, BatchNormalization, Dropout, MaxPooling2D, UpSampling2D\n",
    "from keras.activations import relu, linear\n",
    "from keras import Model\n",
    "from keras.callbacks import Callback, ReduceLROnPlateau,EarlyStopping\n",
    "from keras import backend as K\n",
    "from keras.losses import binary_crossentropy"
   ]
  },
  {
   "cell_type": "code",
   "execution_count": 8,
   "metadata": {},
   "outputs": [
    {
     "name": "stdout",
     "output_type": "stream",
     "text": [
      "Model: \"model\"\n",
      "_________________________________________________________________\n",
      "Layer (type)                 Output Shape              Param #   \n",
      "=================================================================\n",
      "input_1 (InputLayer)         [(None, 112, 112, 3)]     0         \n",
      "_________________________________________________________________\n",
      "conv2d (Conv2D)              (None, 112, 112, 8)       224       \n",
      "_________________________________________________________________\n",
      "max_pooling2d (MaxPooling2D) (None, 56, 56, 8)         0         \n",
      "_________________________________________________________________\n",
      "conv2d_1 (Conv2D)            (None, 56, 56, 16)        1168      \n",
      "_________________________________________________________________\n",
      "max_pooling2d_1 (MaxPooling2 (None, 28, 28, 16)        0         \n",
      "_________________________________________________________________\n",
      "conv2d_2 (Conv2D)            (None, 28, 28, 32)        4640      \n",
      "_________________________________________________________________\n",
      "max_pooling2d_2 (MaxPooling2 (None, 14, 14, 32)        0         \n",
      "_________________________________________________________________\n",
      "conv2d_3 (Conv2D)            (None, 14, 14, 64)        18496     \n",
      "_________________________________________________________________\n",
      "max_pooling2d_3 (MaxPooling2 (None, 7, 7, 64)          0         \n",
      "_________________________________________________________________\n",
      "flatten (Flatten)            (None, 3136)              0         \n",
      "_________________________________________________________________\n",
      "dense (Dense)                (None, 49)                153713    \n",
      "=================================================================\n",
      "Total params: 178,241\n",
      "Trainable params: 178,241\n",
      "Non-trainable params: 0\n",
      "_________________________________________________________________\n"
     ]
    }
   ],
   "source": [
    "image_input = Input(shape=(112,112,3))\n",
    "x = Conv2D(8, (3,3), activation = 'relu', padding = 'same')(image_input)\n",
    "x = MaxPooling2D()(x)\n",
    "x = Conv2D(16, (3,3), activation = 'relu', padding = 'same')(x)\n",
    "x = MaxPooling2D()(x)\n",
    "x = Conv2D(32, (3,3), activation = 'relu', padding = 'same')(x)\n",
    "x = MaxPooling2D()(x)\n",
    "x = Conv2D(64, (3,3), activation = 'relu', padding = 'same')(x)\n",
    "x = MaxPooling2D()(x)\n",
    "x = Flatten()(x)\n",
    "\n",
    "z = Dense(49, activation ='relu')(x)\n",
    "\n",
    "encoder = Model(inputs= [image_input], outputs = [z])\n",
    "\n",
    "encoder.summary()"
   ]
  },
  {
   "cell_type": "code",
   "execution_count": 9,
   "metadata": {},
   "outputs": [],
   "source": [
    "input_decoder = Input(shape=(49,))\n",
    "\n",
    "d = Dense(3136, activation = 'relu')(input_decoder)\n",
    "d = Reshape((7,7,64))(d)\n",
    "d = UpSampling2D()(d)\n",
    "d = Conv2D(64,(3, 3), strides=1, activation='relu', padding='same')(d)\n",
    "d = UpSampling2D()(d)\n",
    "d = Conv2D(32,(3, 3), strides=1, activation='relu', padding='same')(d)\n",
    "d = UpSampling2D()(d)\n",
    "d = Conv2D(16,(3, 3), strides=1, activation='relu', padding='same')(d)\n",
    "d = UpSampling2D()(d)\n",
    "d = Conv2D(8,(3, 3), strides=1, activation='relu', padding='same')(d)\n",
    "decoded = Conv2D(3, (3, 3), strides = 1, activation='relu', padding='same')(d)\n",
    "\n",
    "Decoder = Model(inputs = input_decoder, outputs = decoded)"
   ]
  },
  {
   "cell_type": "code",
   "execution_count": 10,
   "metadata": {},
   "outputs": [
    {
     "name": "stdout",
     "output_type": "stream",
     "text": [
      "Model: \"model_1\"\n",
      "_________________________________________________________________\n",
      "Layer (type)                 Output Shape              Param #   \n",
      "=================================================================\n",
      "input_2 (InputLayer)         [(None, 49)]              0         \n",
      "_________________________________________________________________\n",
      "dense_1 (Dense)              (None, 3136)              156800    \n",
      "_________________________________________________________________\n",
      "reshape (Reshape)            (None, 7, 7, 64)          0         \n",
      "_________________________________________________________________\n",
      "up_sampling2d (UpSampling2D) (None, 14, 14, 64)        0         \n",
      "_________________________________________________________________\n",
      "conv2d_4 (Conv2D)            (None, 14, 14, 64)        36928     \n",
      "_________________________________________________________________\n",
      "up_sampling2d_1 (UpSampling2 (None, 28, 28, 64)        0         \n",
      "_________________________________________________________________\n",
      "conv2d_5 (Conv2D)            (None, 28, 28, 32)        18464     \n",
      "_________________________________________________________________\n",
      "up_sampling2d_2 (UpSampling2 (None, 56, 56, 32)        0         \n",
      "_________________________________________________________________\n",
      "conv2d_6 (Conv2D)            (None, 56, 56, 16)        4624      \n",
      "_________________________________________________________________\n",
      "up_sampling2d_3 (UpSampling2 (None, 112, 112, 16)      0         \n",
      "_________________________________________________________________\n",
      "conv2d_7 (Conv2D)            (None, 112, 112, 8)       1160      \n",
      "_________________________________________________________________\n",
      "conv2d_8 (Conv2D)            (None, 112, 112, 3)       219       \n",
      "=================================================================\n",
      "Total params: 218,195\n",
      "Trainable params: 218,195\n",
      "Non-trainable params: 0\n",
      "_________________________________________________________________\n"
     ]
    }
   ],
   "source": [
    "Decoder.summary()"
   ]
  },
  {
   "cell_type": "markdown",
   "metadata": {},
   "source": [
    "# Creating the autoencoder"
   ]
  },
  {
   "cell_type": "code",
   "execution_count": 11,
   "metadata": {},
   "outputs": [],
   "source": [
    "img_input = Input(shape=(112, 112, 3))\n",
    "Encoded = encoder([img_input])\n",
    "Decoded = Decoder(Encoded)\n",
    "\n",
    "autoencoder = Model(inputs = [img_input], outputs = Decoded)"
   ]
  },
  {
   "cell_type": "code",
   "execution_count": 12,
   "metadata": {
    "scrolled": true
   },
   "outputs": [
    {
     "name": "stdout",
     "output_type": "stream",
     "text": [
      "Model: \"model_2\"\n",
      "_________________________________________________________________\n",
      "Layer (type)                 Output Shape              Param #   \n",
      "=================================================================\n",
      "input_3 (InputLayer)         [(None, 112, 112, 3)]     0         \n",
      "_________________________________________________________________\n",
      "model (Model)                (None, 49)                178241    \n",
      "_________________________________________________________________\n",
      "model_1 (Model)              (None, 112, 112, 3)       218195    \n",
      "=================================================================\n",
      "Total params: 396,436\n",
      "Trainable params: 396,436\n",
      "Non-trainable params: 0\n",
      "_________________________________________________________________\n"
     ]
    }
   ],
   "source": [
    "autoencoder.summary()"
   ]
  },
  {
   "cell_type": "markdown",
   "metadata": {},
   "source": [
    "# Autoencoder training"
   ]
  },
  {
   "cell_type": "code",
   "execution_count": 12,
   "metadata": {},
   "outputs": [],
   "source": [
    "autoencoder.compile(loss = 'mse', optimizer= keras.optimizers.Adam()) #previous learning rate is 10e-4"
   ]
  },
  {
   "cell_type": "code",
   "execution_count": 13,
   "metadata": {
    "scrolled": true
   },
   "outputs": [
    {
     "name": "stdout",
     "output_type": "stream",
     "text": [
      "Epoch 1/20\n",
      "1563/1562 [==============================] - 51s 33ms/step - loss: 0.0124\n",
      "Epoch 2/20\n",
      "1563/1562 [==============================] - 45s 29ms/step - loss: 0.0073\n",
      "Epoch 3/20\n",
      "1563/1562 [==============================] - 45s 29ms/step - loss: 0.0064\n",
      "Epoch 4/20\n",
      "1563/1562 [==============================] - 45s 29ms/step - loss: 0.0058\n",
      "Epoch 5/20\n",
      "1563/1562 [==============================] - 45s 29ms/step - loss: 0.0054\n",
      "Epoch 6/20\n",
      "1563/1562 [==============================] - 45s 29ms/step - loss: 0.0052\n",
      "Epoch 7/20\n",
      "1563/1562 [==============================] - 46s 29ms/step - loss: 0.0050\n",
      "Epoch 8/20\n",
      "1563/1562 [==============================] - 46s 29ms/step - loss: 0.0049\n",
      "Epoch 9/20\n",
      "1563/1562 [==============================] - 46s 29ms/step - loss: 0.0048\n",
      "Epoch 10/20\n",
      "1563/1562 [==============================] - 46s 30ms/step - loss: 0.0046\n",
      "Epoch 11/20\n",
      "1563/1562 [==============================] - 46s 29ms/step - loss: 0.0046\n",
      "Epoch 12/20\n",
      "1563/1562 [==============================] - 46s 29ms/step - loss: 0.0045\n",
      "Epoch 13/20\n",
      "1563/1562 [==============================] - 46s 29ms/step - loss: 0.0044\n",
      "Epoch 14/20\n",
      "1563/1562 [==============================] - 46s 29ms/step - loss: 0.0044\n",
      "Epoch 15/20\n",
      "1563/1562 [==============================] - 46s 29ms/step - loss: 0.0043\n",
      "Epoch 16/20\n",
      "1563/1562 [==============================] - 46s 29ms/step - loss: 0.0043\n",
      "Epoch 17/20\n",
      "1563/1562 [==============================] - 46s 29ms/step - loss: 0.0042\n",
      "Epoch 18/20\n",
      "1563/1562 [==============================] - 46s 29ms/step - loss: 0.0042\n",
      "Epoch 19/20\n",
      "1563/1562 [==============================] - 46s 29ms/step - loss: 0.0042\n",
      "Epoch 20/20\n",
      "1563/1562 [==============================] - 46s 29ms/step - loss: 0.0041\n"
     ]
    },
    {
     "data": {
      "text/plain": [
       "<tensorflow.python.keras.callbacks.History at 0x7f003408b390>"
      ]
     },
     "execution_count": 13,
     "metadata": {},
     "output_type": "execute_result"
    }
   ],
   "source": [
    "autoencoder.fit(generator(train_csv_path, batch_size), steps_per_epoch = train_sample_size/batch_size, epochs = 20)"
   ]
  },
  {
   "cell_type": "code",
   "execution_count": 14,
   "metadata": {},
   "outputs": [],
   "source": [
    "autoencoder.save_weights(\"autoencoder_upsampling_semantic.h5\")"
   ]
  },
  {
   "cell_type": "markdown",
   "metadata": {},
   "source": [
    "# Let's train the motor babbling network"
   ]
  },
  {
   "cell_type": "code",
   "execution_count": 23,
   "metadata": {},
   "outputs": [],
   "source": [
    "autoencoder.load_weights('autoencoder_upsampling_semantic.h5')"
   ]
  },
  {
   "cell_type": "code",
   "execution_count": 24,
   "metadata": {},
   "outputs": [],
   "source": [
    "autoencoder.trainable = False"
   ]
  },
  {
   "cell_type": "code",
   "execution_count": 25,
   "metadata": {},
   "outputs": [],
   "source": [
    "latent_input = Input(shape=(49,))\n",
    "\n",
    "motor_input = Input(shape=(2,))\n",
    "\n",
    "babbling_input = Concatenate()([latent_input, motor_input])\n",
    "\n",
    "z = Dense(128, activation = 'relu')(babbling_input)\n",
    "z = Dense(49, activation = 'relu')(z)\n",
    "\n",
    "babbling_mlp = Model(inputs = [latent_input, motor_input], outputs = z)"
   ]
  },
  {
   "cell_type": "code",
   "execution_count": 26,
   "metadata": {},
   "outputs": [
    {
     "name": "stdout",
     "output_type": "stream",
     "text": [
      "Model: \"model_5\"\n",
      "__________________________________________________________________________________________________\n",
      "Layer (type)                    Output Shape         Param #     Connected to                     \n",
      "==================================================================================================\n",
      "input_6 (InputLayer)            [(None, 49)]         0                                            \n",
      "__________________________________________________________________________________________________\n",
      "input_7 (InputLayer)            [(None, 2)]          0                                            \n",
      "__________________________________________________________________________________________________\n",
      "concatenate_1 (Concatenate)     (None, 51)           0           input_6[0][0]                    \n",
      "                                                                 input_7[0][0]                    \n",
      "__________________________________________________________________________________________________\n",
      "dense_4 (Dense)                 (None, 128)          6656        concatenate_1[0][0]              \n",
      "__________________________________________________________________________________________________\n",
      "dense_5 (Dense)                 (None, 49)           6321        dense_4[0][0]                    \n",
      "==================================================================================================\n",
      "Total params: 12,977\n",
      "Trainable params: 12,977\n",
      "Non-trainable params: 0\n",
      "__________________________________________________________________________________________________\n"
     ]
    }
   ],
   "source": [
    "babbling_mlp.summary()"
   ]
  },
  {
   "cell_type": "code",
   "execution_count": 27,
   "metadata": {},
   "outputs": [],
   "source": [
    "img_input = Input(shape=(112, 112, 3), name = \"img\")\n",
    "motor_input = Input(shape=(2,), name = \"motor\")\n",
    "\n",
    "Encoded = encoder([img_input])\n",
    "babbling = babbling_mlp([Encoded, motor_input])\n",
    "Decoded = Decoder(babbling)\n",
    "\n",
    "babbling_model = Model(inputs = [img_input, motor_input], outputs = Decoded)"
   ]
  },
  {
   "cell_type": "code",
   "execution_count": 28,
   "metadata": {},
   "outputs": [
    {
     "name": "stdout",
     "output_type": "stream",
     "text": [
      "Model: \"model_6\"\n",
      "__________________________________________________________________________________________________\n",
      "Layer (type)                    Output Shape         Param #     Connected to                     \n",
      "==================================================================================================\n",
      "img (InputLayer)                [(None, 112, 112, 3) 0                                            \n",
      "__________________________________________________________________________________________________\n",
      "model (Model)                   (None, 49)           178241      img[0][0]                        \n",
      "__________________________________________________________________________________________________\n",
      "motor (InputLayer)              [(None, 2)]          0                                            \n",
      "__________________________________________________________________________________________________\n",
      "model_5 (Model)                 (None, 49)           12977       model[3][0]                      \n",
      "                                                                 motor[0][0]                      \n",
      "__________________________________________________________________________________________________\n",
      "model_1 (Model)                 (None, 112, 112, 3)  218195      model_5[1][0]                    \n",
      "==================================================================================================\n",
      "Total params: 409,413\n",
      "Trainable params: 12,977\n",
      "Non-trainable params: 396,436\n",
      "__________________________________________________________________________________________________\n"
     ]
    }
   ],
   "source": [
    "babbling_model.summary()"
   ]
  },
  {
   "cell_type": "code",
   "execution_count": 29,
   "metadata": {},
   "outputs": [],
   "source": [
    "babbling_model.compile(loss = 'mse', optimizer = keras.optimizers.Adam())"
   ]
  },
  {
   "cell_type": "code",
   "execution_count": 30,
   "metadata": {},
   "outputs": [],
   "source": [
    "batch_size = 32"
   ]
  },
  {
   "cell_type": "code",
   "execution_count": 31,
   "metadata": {},
   "outputs": [
    {
     "name": "stdout",
     "output_type": "stream",
     "text": [
      "Epoch 1/10\n",
      "1563/1562 [==============================] - 64s 41ms/step - loss: 0.0112 - val_loss: 0.0947\n",
      "Epoch 2/10\n",
      "1563/1562 [==============================] - 55s 35ms/step - loss: 0.0105 - val_loss: 0.0942\n",
      "Epoch 3/10\n",
      "1563/1562 [==============================] - 53s 34ms/step - loss: 0.0104 - val_loss: 0.0944\n",
      "Epoch 4/10\n",
      "1563/1562 [==============================] - 57s 36ms/step - loss: 0.0103 - val_loss: 0.0944\n",
      "Epoch 5/10\n",
      "1563/1562 [==============================] - 56s 36ms/step - loss: 0.0102 - val_loss: 0.0943\n",
      "Epoch 6/10\n",
      "1563/1562 [==============================] - 53s 34ms/step - loss: 0.0102 - val_loss: 0.0942\n",
      "Epoch 7/10\n",
      "1563/1562 [==============================] - 56s 36ms/step - loss: 0.0101 - val_loss: 0.0942\n",
      "Epoch 8/10\n",
      "1563/1562 [==============================] - 61s 39ms/step - loss: 0.0101 - val_loss: 0.0942\n",
      "Epoch 9/10\n",
      "1563/1562 [==============================] - 55s 35ms/step - loss: 0.0101 - val_loss: 0.0943\n",
      "Epoch 10/10\n",
      "1563/1562 [==============================] - 53s 34ms/step - loss: 0.0101 - val_loss: 0.0943\n"
     ]
    },
    {
     "data": {
      "text/plain": [
       "<tensorflow.python.keras.callbacks.History at 0x7f5ec0265e10>"
      ]
     },
     "execution_count": 31,
     "metadata": {},
     "output_type": "execute_result"
    }
   ],
   "source": [
    "babbling_model.fit(babbling_generator(train_csv_path, batch_size), steps_per_epoch = train_sample_size/batch_size, epochs = 10, validation_data=babbling_generator(val_csv_path, batch_size), validation_steps= val_sample_size/batch_size)"
   ]
  },
  {
   "cell_type": "code",
   "execution_count": 32,
   "metadata": {},
   "outputs": [],
   "source": [
    "babbling_model.save_weights('babbling_model_semantic.h5')"
   ]
  },
  {
   "cell_type": "code",
   "execution_count": 34,
   "metadata": {},
   "outputs": [],
   "source": [
    "predictions = babbling_model.predict(babbling_generator(val_csv_path, batch_size), steps= val_sample_size/batch_size)"
   ]
  },
  {
   "cell_type": "code",
   "execution_count": 35,
   "metadata": {},
   "outputs": [
    {
     "data": {
      "text/plain": [
       "<matplotlib.image.AxesImage at 0x7f5e0c376ad0>"
      ]
     },
     "execution_count": 35,
     "metadata": {},
     "output_type": "execute_result"
    },
    {
     "data": {
      "image/png": "[encoded data removed]",
      "text/plain": [
       "<Figure size 432x288 with 1 Axes>"
      ]
     },
     "metadata": {
      "needs_background": "light"
     },
     "output_type": "display_data"
    }
   ],
   "source": [
    "plt.imshow(predictions[347])"
   ]
  },
  {
   "cell_type": "code",
   "execution_count": null,
   "metadata": {},
   "outputs": [],
   "source": []
  }
 ],
 "metadata": {
  "kernelspec": {
   "display_name": "Python 3",
   "language": "python",
   "name": "python3"
  },
  "language_info": {
   "codemirror_mode": {
    "name": "ipython",
    "version": 3
   },
   "file_extension": ".py",
   "mimetype": "text/x-python",
   "name": "python",
   "nbconvert_exporter": "python",
   "pygments_lexer": "ipython3",
   "version": "3.7.9"
  }
 },
 "nbformat": 4,
 "nbformat_minor": 4
}
