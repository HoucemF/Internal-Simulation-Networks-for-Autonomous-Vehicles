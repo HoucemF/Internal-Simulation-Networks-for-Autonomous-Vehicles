{
 "cells": [
  {
   "cell_type": "code",
   "execution_count": 1,
   "metadata": {},
   "outputs": [],
   "source": [
    "import pickle\n",
    "import matplotlib.pyplot as plt\n",
    "import numpy as np\n",
    "import imageio\n",
    "import glob\n",
    "import cv2\n",
    "import skimage\n",
    "from imageio import imread\n",
    "import csv\n",
    "import math\n",
    "import ktrain\n",
    "from keras_lr_finder import LRFinder\n",
    "import sys"
   ]
  },
  {
   "cell_type": "code",
   "execution_count": 2,
   "metadata": {},
   "outputs": [],
   "source": [
    "sys.path.insert(1, '/home/houcem/git/CLR')"
   ]
  },
  {
   "cell_type": "code",
   "execution_count": 3,
   "metadata": {},
   "outputs": [],
   "source": [
    "from clr_callback import *"
   ]
  },
  {
   "cell_type": "markdown",
   "metadata": {},
   "source": [
    "# Creating a generator to load and preprocess the images"
   ]
  },
  {
   "cell_type": "code",
   "execution_count": 4,
   "metadata": {},
   "outputs": [],
   "source": [
    "train_csv_path = \"/home/houcem/data/combined_csv.csv\"\n",
    "val_csv_path = \"/home/houcem/data_val/data.csv\"\n",
    "train_sample_size = sum(1 for row in open(train_csv_path))\n",
    "val_sample_size = sum(1 for row in open(val_csv_path))\n",
    "path = \"/home/houcem/data/data.csv\""
   ]
  },
  {
   "cell_type": "code",
   "execution_count": 5,
   "metadata": {},
   "outputs": [],
   "source": [
    "batch_size = 50"
   ]
  },
  {
   "cell_type": "code",
   "execution_count": 6,
   "metadata": {},
   "outputs": [],
   "source": [
    "def generator(csv_path, batch_size):\n",
    "    X_train = []\n",
    "    y_train = []\n",
    "    batchcount = 0\n",
    "    \n",
    "    while True: #Keeping the generator running\n",
    "        with open(csv_path) as f:\n",
    "            next(f) #Skipping the header\n",
    "            for line in f:\n",
    "                img_x_path, throttle, steering_angle, img_y_path = line.split(',')\n",
    "                \n",
    "                #Loading and Normalizing the input frame\n",
    "                img_x = imread(str(img_x_path))\n",
    "                img_x = img_x/255.0\n",
    "                \n",
    "                #Packing the motor input into a numpy array\n",
    "                motor_input = np.asarray([throttle, steering_angle])\n",
    "                \n",
    "                #Loading and Normalizing the target frame\n",
    "                #img_y = cv2.imread(img_y_path.rstrip(\"\\n\"))\n",
    "                #img_y = img_y/255.0\n",
    "                \n",
    "                #Packing and adding the inputs and targets into the batch\n",
    "                X_train.append(img_x)\n",
    "                y_train.append(img_x)\n",
    "                   \n",
    "                batchcount += 1    \n",
    "                    \n",
    "                if batchcount == batch_size:\n",
    "                    X_train = np.asarray(X_train)\n",
    "                    y_train = np.asarray(y_train)\n",
    "                    yield(X_train, y_train)\n",
    "                    X_train = []\n",
    "                    y_train = []\n",
    "                    batchcount = 0"
   ]
  },
  {
   "cell_type": "code",
   "execution_count": 7,
   "metadata": {},
   "outputs": [],
   "source": [
    "def babbling_generator(csv_path, batch_size):\n",
    "    X_train = []\n",
    "    y_train = []\n",
    "    motor_train = []\n",
    "    batchcount = 0\n",
    "    \n",
    "    while True: #Keeping the generator running\n",
    "        with open(csv_path) as f:\n",
    "            next(f) #Skipping the header\n",
    "            for line in f:\n",
    "                img_x_path, throttle, steering_angle, img_y_path = line.split(',')\n",
    "                \n",
    "                #Loading and Normalizing the input frame\n",
    "                img_x = imread(str(img_x_path))\n",
    "                img_x = img_x/255.0\n",
    "                \n",
    "                #Packing the motor input into a numpy array\n",
    "                motor_input = np.asarray([float(throttle), float(steering_angle)])\n",
    "                \n",
    "                #Loading and Normalizing the target frame\n",
    "                img_y = cv2.imread(str(img_y_path).rstrip(\"\\n\"))\n",
    "                img_y = img_y/255.0\n",
    "                \n",
    "                #Packing and adding the inputs and targets into the batch\n",
    "                X_train.append(img_x)\n",
    "                motor_train.append(motor_input)\n",
    "                y_train.append(img_y)\n",
    "                   \n",
    "                batchcount += 1    \n",
    "                    \n",
    "                if batchcount == batch_size:\n",
    "                    X_train = np.asarray(X_train)\n",
    "                    motor_train = np.asarray(motor_train)                    \n",
    "                    y_train = np.asarray(y_train)\n",
    "                    yield([X_train, motor_train], y_train)\n",
    "                    X_train = []\n",
    "                    y_train = []\n",
    "                    motor_train = []\n",
    "                    batchcount = 0"
   ]
  },
  {
   "cell_type": "code",
   "execution_count": 8,
   "metadata": {},
   "outputs": [],
   "source": [
    "def train_generator(csv_path, batch_size):\n",
    "    X_train = []\n",
    "    batchcount = 0\n",
    "    \n",
    "    while True: #Keeping the generator running\n",
    "        with open(csv_path) as f:\n",
    "            next(f) #Skipping the header\n",
    "            for line in f:\n",
    "                img_x_path, throttle, steering_angle, img_y_path = line.split(',')\n",
    "                \n",
    "                #Loading and Normalizing the input frame\n",
    "                img_x = imread(str(img_x_path))\n",
    "                img_x = img_x/255.0\n",
    "                \n",
    "                #Packing the motor input into a numpy array\n",
    "                motor_input = np.asarray([throttle, steering_angle])\n",
    "                \n",
    "                #Loading and Normalizing the target frame\n",
    "                #img_y = cv2.imread(img_y_path.rstrip(\"\\n\"))\n",
    "                #img_y = img_y/255.0\n",
    "                \n",
    "                #Packing and adding the inputs and targets into the batch\n",
    "                X_train.append(img_x)\n",
    "                   \n",
    "                batchcount += 1    \n",
    "                    \n",
    "                if batchcount == batch_size:\n",
    "                    X_train = np.asarray(X_train)\n",
    "                    yield(X_train)\n",
    "                    X_train = []\n",
    "                    batchcount = 0"
   ]
  },
  {
   "cell_type": "code",
   "execution_count": 9,
   "metadata": {},
   "outputs": [],
   "source": [
    "def train_y_generator(csv_path, batch_size):\n",
    "    y_train = []\n",
    "    batchcount = 0\n",
    "    \n",
    "    while True: #Keeping the generator running\n",
    "        with open(csv_path) as f:\n",
    "            next(f) #Skipping the header\n",
    "            for line in f:\n",
    "                img_x_path, throttle, steering_angle, img_y_path = line.split(',')\n",
    "                \n",
    "                #Loading and Normalizing the input frame\n",
    "                #img_x = imread(str(img_x_path))\n",
    "                #img_x = img_x/255.0\n",
    "                \n",
    "                #Packing the motor input into a numpy array\n",
    "                motor_input = np.asarray([throttle, steering_angle])\n",
    "                \n",
    "                #Loading and Normalizing the target frame\n",
    "                img_y = cv2.imread(img_y_path.rstrip(\"\\n\"))\n",
    "                img_y = img_y/255.0\n",
    "                \n",
    "                #Packing and adding the inputs and targets into the batch\n",
    "                y_train.append(img_y)\n",
    "                   \n",
    "                batchcount += 1    \n",
    "                    \n",
    "                if batchcount == batch_size:\n",
    "                    y_train = np.asarray(y_train)\n",
    "                    yield(y_train)\n",
    "                    y_train = []\n",
    "                    batchcount = 0"
   ]
  },
  {
   "cell_type": "code",
   "execution_count": 10,
   "metadata": {},
   "outputs": [],
   "source": [
    "def motor_parser(csv_path):\n",
    "    motor_input = []\n",
    "    f = open(csv_path)\n",
    "    next(f)\n",
    "    for line in f:\n",
    "        img_x_path, throttle, steering_angle, img_y_path = line.split(',')\n",
    "        motor_input.append(np.asarray([throttle, steering_angle]))\n",
    "    return np.asarray(motor_input)        "
   ]
  },
  {
   "cell_type": "markdown",
   "metadata": {},
   "source": [
    "# Defining the model"
   ]
  },
  {
   "cell_type": "code",
   "execution_count": 11,
   "metadata": {},
   "outputs": [],
   "source": [
    "from tensorflow import keras\n",
    "import tensorflow as tf\n",
    "from keras import layers\n",
    "#tf.config.experimental_run_functions_eagerly(True)\n",
    "#tf.compat.v1.disable_eager_execution()"
   ]
  },
  {
   "cell_type": "code",
   "execution_count": 12,
   "metadata": {
    "scrolled": true
   },
   "outputs": [],
   "source": [
    "from keras.layers import Lambda, Conv2D, Conv2DTranspose, Dense, Input, Flatten, Concatenate, Reshape, BatchNormalization, Dropout, MaxPooling2D, UpSampling2D, LeakyReLU\n",
    "from keras.activations import relu, linear, selu\n",
    "from keras import Model\n",
    "from keras import backend as K\n",
    "from keras.losses import mae \n",
    "from keras.callbacks import TensorBoard"
   ]
  },
  {
   "cell_type": "code",
   "execution_count": 14,
   "metadata": {
    "scrolled": false
   },
   "outputs": [
    {
     "name": "stdout",
     "output_type": "stream",
     "text": [
      "Model: \"model_1\"\n",
      "_________________________________________________________________\n",
      "Layer (type)                 Output Shape              Param #   \n",
      "=================================================================\n",
      "input_2 (InputLayer)         [(None, 112, 112, 3)]     0         \n",
      "_________________________________________________________________\n",
      "conv2d_8 (Conv2D)            (None, 112, 112, 8)       216       \n",
      "_________________________________________________________________\n",
      "batch_normalization_8 (Batch (None, 112, 112, 8)       32        \n",
      "_________________________________________________________________\n",
      "conv2d_9 (Conv2D)            (None, 56, 56, 8)         576       \n",
      "_________________________________________________________________\n",
      "batch_normalization_9 (Batch (None, 56, 56, 8)         32        \n",
      "_________________________________________________________________\n",
      "conv2d_10 (Conv2D)           (None, 56, 56, 16)        1152      \n",
      "_________________________________________________________________\n",
      "batch_normalization_10 (Batc (None, 56, 56, 16)        64        \n",
      "_________________________________________________________________\n",
      "conv2d_11 (Conv2D)           (None, 28, 28, 16)        2304      \n",
      "_________________________________________________________________\n",
      "batch_normalization_11 (Batc (None, 28, 28, 16)        64        \n",
      "_________________________________________________________________\n",
      "conv2d_12 (Conv2D)           (None, 28, 28, 32)        4608      \n",
      "_________________________________________________________________\n",
      "batch_normalization_12 (Batc (None, 28, 28, 32)        128       \n",
      "_________________________________________________________________\n",
      "conv2d_13 (Conv2D)           (None, 14, 14, 32)        9216      \n",
      "_________________________________________________________________\n",
      "batch_normalization_13 (Batc (None, 14, 14, 32)        128       \n",
      "_________________________________________________________________\n",
      "conv2d_14 (Conv2D)           (None, 14, 14, 64)        18432     \n",
      "_________________________________________________________________\n",
      "batch_normalization_14 (Batc (None, 14, 14, 64)        256       \n",
      "_________________________________________________________________\n",
      "conv2d_15 (Conv2D)           (None, 7, 7, 64)          36864     \n",
      "_________________________________________________________________\n",
      "batch_normalization_15 (Batc (None, 7, 7, 64)          256       \n",
      "_________________________________________________________________\n",
      "flatten_1 (Flatten)          (None, 3136)              0         \n",
      "_________________________________________________________________\n",
      "dense_1 (Dense)              (None, 128)               401536    \n",
      "=================================================================\n",
      "Total params: 475,864\n",
      "Trainable params: 475,384\n",
      "Non-trainable params: 480\n",
      "_________________________________________________________________\n"
     ]
    }
   ],
   "source": [
    "image_input = Input(shape=(112,112,3))\n",
    "x = Conv2D(8, (3,3), activation = selu, padding = 'same', use_bias = False, kernel_initializer=keras.initializers.he_uniform())(image_input)\n",
    "x = BatchNormalization()(x)\n",
    "x = Conv2D(8, (3,3), activation = selu, strides = 2, padding = 'same', use_bias = False, kernel_initializer=keras.initializers.he_uniform())(x)\n",
    "x = BatchNormalization()(x)\n",
    "x = Conv2D(16, (3,3), activation = selu, padding = 'same', use_bias = False, kernel_initializer=keras.initializers.he_uniform())(x)\n",
    "x = BatchNormalization()(x)\n",
    "x = Conv2D(16, (3,3), activation = selu, strides = 2, padding = 'same', use_bias = False, kernel_initializer=keras.initializers.he_uniform())(x)\n",
    "x = BatchNormalization()(x)\n",
    "x = Conv2D(32, (3,3), activation = selu, padding = 'same', use_bias = False, kernel_initializer=keras.initializers.he_uniform())(x)\n",
    "x = BatchNormalization()(x)\n",
    "x = Conv2D(32, (3,3), activation = selu, strides = 2, padding = 'same', use_bias = False, kernel_initializer=keras.initializers.he_uniform())(x)\n",
    "x = BatchNormalization()(x)\n",
    "x = Conv2D(64, (3,3), activation = selu, padding = 'same', use_bias = False, kernel_initializer=keras.initializers.he_uniform())(x)\n",
    "x = BatchNormalization()(x)\n",
    "x = Conv2D(64, (3,3), activation = selu, strides = 2, padding = 'same', use_bias = False, kernel_initializer=keras.initializers.he_uniform())(x)\n",
    "x = BatchNormalization()(x)\n",
    "x = Flatten()(x)\n",
    "\n",
    "z = Dense(128, activation = 'sigmoid', activity_regularizer = keras.regularizers.l1(1e-4))(x)\n",
    "\n",
    "encoder = Model(inputs= [image_input], outputs = [z])\n",
    "\n",
    "encoder.summary()"
   ]
  },
  {
   "cell_type": "code",
   "execution_count": 15,
   "metadata": {},
   "outputs": [],
   "source": [
    "input_decoder = Input(shape=(128,))\n",
    "\n",
    "dense_1= Dense(3136, activation = selu, activity_regularizer = keras.regularizers.l2(1e-4), kernel_initializer=keras.initializers.he_uniform())(input_decoder)\n",
    "d = Reshape((7,7,64))(dense_1)\n",
    "d = UpSampling2D()(d)\n",
    "d = Conv2D(64,(3, 3), strides=1, activation= selu, padding='same', use_bias = False, kernel_initializer=keras.initializers.he_uniform())(d)\n",
    "d = BatchNormalization()(d)\n",
    "d = UpSampling2D()(d)\n",
    "d = Conv2D(32,(3, 3), strides=1, activation= selu, padding='same', use_bias = False, kernel_initializer=keras.initializers.he_uniform())(d)\n",
    "d = BatchNormalization()(d)\n",
    "d = UpSampling2D()(d)\n",
    "d = Conv2D(16,(3, 3), strides=1, activation= selu, padding='same', use_bias = False, kernel_initializer=keras.initializers.he_uniform())(d)\n",
    "d = BatchNormalization()(d)\n",
    "d = UpSampling2D()(d)\n",
    "d = Conv2D(8,(3, 3), strides=1, activation= selu, padding='same', use_bias = False, kernel_initializer=keras.initializers.he_uniform())(d)\n",
    "d = BatchNormalization()(d)\n",
    "decoded = Conv2D(3, (3, 3), strides = 1, activation='linear', padding='same')(d)\n",
    "\n",
    "Decoder = Model(inputs = input_decoder, outputs = decoded)"
   ]
  },
  {
   "cell_type": "code",
   "execution_count": 16,
   "metadata": {
    "scrolled": false
   },
   "outputs": [
    {
     "name": "stdout",
     "output_type": "stream",
     "text": [
      "Model: \"model_2\"\n",
      "_________________________________________________________________\n",
      "Layer (type)                 Output Shape              Param #   \n",
      "=================================================================\n",
      "input_3 (InputLayer)         [(None, 128)]             0         \n",
      "_________________________________________________________________\n",
      "dense_2 (Dense)              (None, 3136)              404544    \n",
      "_________________________________________________________________\n",
      "reshape (Reshape)            (None, 7, 7, 64)          0         \n",
      "_________________________________________________________________\n",
      "up_sampling2d (UpSampling2D) (None, 14, 14, 64)        0         \n",
      "_________________________________________________________________\n",
      "conv2d_16 (Conv2D)           (None, 14, 14, 64)        36864     \n",
      "_________________________________________________________________\n",
      "batch_normalization_16 (Batc (None, 14, 14, 64)        256       \n",
      "_________________________________________________________________\n",
      "up_sampling2d_1 (UpSampling2 (None, 28, 28, 64)        0         \n",
      "_________________________________________________________________\n",
      "conv2d_17 (Conv2D)           (None, 28, 28, 32)        18432     \n",
      "_________________________________________________________________\n",
      "batch_normalization_17 (Batc (None, 28, 28, 32)        128       \n",
      "_________________________________________________________________\n",
      "up_sampling2d_2 (UpSampling2 (None, 56, 56, 32)        0         \n",
      "_________________________________________________________________\n",
      "conv2d_18 (Conv2D)           (None, 56, 56, 16)        4608      \n",
      "_________________________________________________________________\n",
      "batch_normalization_18 (Batc (None, 56, 56, 16)        64        \n",
      "_________________________________________________________________\n",
      "up_sampling2d_3 (UpSampling2 (None, 112, 112, 16)      0         \n",
      "_________________________________________________________________\n",
      "conv2d_19 (Conv2D)           (None, 112, 112, 8)       1152      \n",
      "_________________________________________________________________\n",
      "batch_normalization_19 (Batc (None, 112, 112, 8)       32        \n",
      "_________________________________________________________________\n",
      "conv2d_20 (Conv2D)           (None, 112, 112, 3)       219       \n",
      "=================================================================\n",
      "Total params: 466,299\n",
      "Trainable params: 466,059\n",
      "Non-trainable params: 240\n",
      "_________________________________________________________________\n"
     ]
    }
   ],
   "source": [
    "Decoder.summary()"
   ]
  },
  {
   "cell_type": "markdown",
   "metadata": {},
   "source": [
    "# Creating the autoencoder"
   ]
  },
  {
   "cell_type": "code",
   "execution_count": 17,
   "metadata": {},
   "outputs": [],
   "source": [
    "img_input = Input(shape=(112, 112, 3))\n",
    "Encoded = encoder([img_input])\n",
    "Decoded = Decoder(Encoded)\n",
    "\n",
    "autoencoder = Model(inputs = [img_input], outputs = Decoded)"
   ]
  },
  {
   "cell_type": "code",
   "execution_count": 18,
   "metadata": {
    "scrolled": false
   },
   "outputs": [
    {
     "name": "stdout",
     "output_type": "stream",
     "text": [
      "Model: \"model_3\"\n",
      "_________________________________________________________________\n",
      "Layer (type)                 Output Shape              Param #   \n",
      "=================================================================\n",
      "input_4 (InputLayer)         [(None, 112, 112, 3)]     0         \n",
      "_________________________________________________________________\n",
      "model_1 (Model)              (None, 128)               475864    \n",
      "_________________________________________________________________\n",
      "model_2 (Model)              (None, 112, 112, 3)       466299    \n",
      "=================================================================\n",
      "Total params: 942,163\n",
      "Trainable params: 941,443\n",
      "Non-trainable params: 720\n",
      "_________________________________________________________________\n"
     ]
    }
   ],
   "source": [
    "autoencoder.summary()"
   ]
  },
  {
   "cell_type": "markdown",
   "metadata": {},
   "source": [
    "# Autoencoder training"
   ]
  },
  {
   "cell_type": "code",
   "execution_count": 19,
   "metadata": {},
   "outputs": [],
   "source": [
    "def SSIM_l1_loss(y_true, y_pred):\n",
    "    return 1 - tf.reduce_mean(tf.image.ssim_multiscale(y_true,y_pred, max_val=1, filter_size=3)) + mae(y_true, y_pred)"
   ]
  },
  {
   "cell_type": "code",
   "execution_count": 20,
   "metadata": {},
   "outputs": [],
   "source": [
    "autoencoder.compile(loss = SSIM_l1_loss, optimizer= keras.optimizers.Adam(learning_rate=1e-3)) "
   ]
  },
  {
   "cell_type": "code",
   "execution_count": 21,
   "metadata": {},
   "outputs": [],
   "source": [
    "tensorboard = TensorBoard(log_dir='./logs', histogram_freq=1)"
   ]
  },
  {
   "cell_type": "code",
   "execution_count": 22,
   "metadata": {
    "scrolled": true
   },
   "outputs": [
    {
     "name": "stdout",
     "output_type": "stream",
     "text": [
      "Epoch 1/50\n",
      "2299/2298 [==============================] - 583s 254ms/step - loss: 0.5542 - val_loss: 0.2978\n",
      "Epoch 2/50\n",
      "2299/2298 [==============================] - 180s 78ms/step - loss: 0.4569 - val_loss: 0.3011\n",
      "Epoch 3/50\n",
      "2299/2298 [==============================] - 181s 79ms/step - loss: 0.4369 - val_loss: 0.2890\n",
      "Epoch 4/50\n",
      "2299/2298 [==============================] - 182s 79ms/step - loss: 0.3982 - val_loss: 0.2801\n",
      "Epoch 5/50\n",
      "2299/2298 [==============================] - 182s 79ms/step - loss: 0.3571 - val_loss: 0.2472\n",
      "Epoch 6/50\n",
      "2299/2298 [==============================] - 182s 79ms/step - loss: 0.3370 - val_loss: 0.2328\n",
      "Epoch 7/50\n",
      "2299/2298 [==============================] - 182s 79ms/step - loss: 0.3239 - val_loss: 0.2097\n",
      "Epoch 8/50\n",
      "2299/2298 [==============================] - 183s 80ms/step - loss: 0.3151 - val_loss: 0.2197\n",
      "Epoch 9/50\n",
      "2299/2298 [==============================] - 184s 80ms/step - loss: 0.3083 - val_loss: 0.2036\n",
      "Epoch 10/50\n",
      "2299/2298 [==============================] - 184s 80ms/step - loss: 0.3000 - val_loss: 0.2105\n",
      "Epoch 11/50\n",
      "2299/2298 [==============================] - 184s 80ms/step - loss: 0.2953 - val_loss: 0.1943\n",
      "Epoch 12/50\n",
      "2299/2298 [==============================] - 184s 80ms/step - loss: 0.2908 - val_loss: 0.1905\n",
      "Epoch 13/50\n",
      "2299/2298 [==============================] - 184s 80ms/step - loss: 0.2860 - val_loss: 0.1946\n",
      "Epoch 14/50\n",
      "2299/2298 [==============================] - 184s 80ms/step - loss: 0.2866 - val_loss: 0.1874\n",
      "Epoch 15/50\n",
      "2299/2298 [==============================] - 184s 80ms/step - loss: 0.2804 - val_loss: 0.1848\n",
      "Epoch 16/50\n",
      "2299/2298 [==============================] - 184s 80ms/step - loss: 0.2788 - val_loss: 0.1898\n",
      "Epoch 17/50\n",
      "2299/2298 [==============================] - 184s 80ms/step - loss: 0.2754 - val_loss: 0.1830\n",
      "Epoch 18/50\n",
      "2299/2298 [==============================] - 184s 80ms/step - loss: 0.2732 - val_loss: 0.1780\n",
      "Epoch 19/50\n",
      "2299/2298 [==============================] - 184s 80ms/step - loss: 0.2684 - val_loss: 0.1836\n",
      "Epoch 20/50\n",
      "2299/2298 [==============================] - 184s 80ms/step - loss: 0.2662 - val_loss: 0.1804\n",
      "Epoch 21/50\n",
      "2299/2298 [==============================] - 184s 80ms/step - loss: 0.2655 - val_loss: 0.1905\n",
      "Epoch 22/50\n",
      "2299/2298 [==============================] - 184s 80ms/step - loss: 0.2612 - val_loss: 0.1810\n",
      "Epoch 23/50\n",
      "2299/2298 [==============================] - 184s 80ms/step - loss: 0.2600 - val_loss: 0.1769\n",
      "Epoch 24/50\n",
      "2299/2298 [==============================] - 184s 80ms/step - loss: 0.2586 - val_loss: 0.1745\n",
      "Epoch 25/50\n",
      "2299/2298 [==============================] - 184s 80ms/step - loss: 0.2572 - val_loss: 0.1807\n",
      "Epoch 26/50\n",
      "2299/2298 [==============================] - 184s 80ms/step - loss: 0.2544 - val_loss: 0.1842\n",
      "Epoch 27/50\n",
      "2299/2298 [==============================] - 184s 80ms/step - loss: 0.2544 - val_loss: 0.1769\n",
      "Epoch 28/50\n",
      "2299/2298 [==============================] - 184s 80ms/step - loss: 0.2513 - val_loss: 0.1762\n",
      "Epoch 29/50\n",
      "2299/2298 [==============================] - 184s 80ms/step - loss: 0.2522 - val_loss: 0.1819\n",
      "Epoch 30/50\n",
      "2299/2298 [==============================] - 184s 80ms/step - loss: 0.2496 - val_loss: 0.1785\n",
      "Epoch 31/50\n",
      "2299/2298 [==============================] - 184s 80ms/step - loss: 0.2486 - val_loss: 0.1762\n",
      "Epoch 32/50\n",
      "2299/2298 [==============================] - 184s 80ms/step - loss: 0.2478 - val_loss: 0.1819\n",
      "Epoch 33/50\n",
      "2299/2298 [==============================] - 184s 80ms/step - loss: 0.2471 - val_loss: 0.1880\n",
      "Epoch 34/50\n",
      "2299/2298 [==============================] - 184s 80ms/step - loss: 0.2469 - val_loss: 0.1767\n",
      "Epoch 35/50\n",
      "2299/2298 [==============================] - 184s 80ms/step - loss: 0.2496 - val_loss: 0.1753\n",
      "Epoch 36/50\n",
      "2299/2298 [==============================] - 184s 80ms/step - loss: 0.2450 - val_loss: 0.1779\n",
      "Epoch 37/50\n",
      "2299/2298 [==============================] - 184s 80ms/step - loss: 0.2435 - val_loss: 0.1788\n",
      "Epoch 38/50\n",
      "2299/2298 [==============================] - 184s 80ms/step - loss: 0.2559 - val_loss: 0.1702\n",
      "Epoch 39/50\n",
      "2299/2298 [==============================] - 184s 80ms/step - loss: 0.2418 - val_loss: 0.1726\n",
      "Epoch 40/50\n",
      "2299/2298 [==============================] - 184s 80ms/step - loss: 0.2411 - val_loss: 0.1756\n",
      "Epoch 41/50\n",
      "2299/2298 [==============================] - 184s 80ms/step - loss: 0.2413 - val_loss: 0.1710\n",
      "Epoch 42/50\n",
      "2299/2298 [==============================] - 184s 80ms/step - loss: 0.2423 - val_loss: 0.1682\n",
      "Epoch 43/50\n",
      "2299/2298 [==============================] - 185s 80ms/step - loss: 0.2404 - val_loss: 0.1703\n",
      "Epoch 44/50\n",
      "2299/2298 [==============================] - 184s 80ms/step - loss: 0.2430 - val_loss: 0.1810\n",
      "Epoch 45/50\n",
      "2299/2298 [==============================] - 184s 80ms/step - loss: 0.2439 - val_loss: 0.1743\n",
      "Epoch 46/50\n",
      "2299/2298 [==============================] - 184s 80ms/step - loss: 0.2379 - val_loss: 0.1701\n",
      "Epoch 47/50\n",
      "2299/2298 [==============================] - 184s 80ms/step - loss: 0.2380 - val_loss: 0.1797\n",
      "Epoch 48/50\n",
      "2299/2298 [==============================] - 184s 80ms/step - loss: 0.2408 - val_loss: 0.1810\n",
      "Epoch 49/50\n",
      "2299/2298 [==============================] - 184s 80ms/step - loss: 0.2391 - val_loss: 0.1760\n",
      "Epoch 50/50\n",
      "2299/2298 [==============================] - 184s 80ms/step - loss: 0.2363 - val_loss: 0.1740\n"
     ]
    },
    {
     "data": {
      "text/plain": [
       "<tensorflow.python.keras.callbacks.History at 0x7f8fa1c2cc90>"
      ]
     },
     "execution_count": 22,
     "metadata": {},
     "output_type": "execute_result"
    }
   ],
   "source": [
    "autoencoder.fit(generator(train_csv_path, batch_size), steps_per_epoch = train_sample_size/batch_size, epochs = 50, validation_data= generator(val_csv_path, batch_size), validation_steps= val_sample_size/batch_size, callbacks= [tensorboard])"
   ]
  },
  {
   "cell_type": "code",
   "execution_count": 23,
   "metadata": {},
   "outputs": [],
   "source": [
    "autoencoder.save_weights(\"autoencoder_babbling_sigmoid_strided_l1.h5\")"
   ]
  },
  {
   "cell_type": "markdown",
   "metadata": {},
   "source": [
    "# Let's check out the prediction for the first image"
   ]
  },
  {
   "cell_type": "code",
   "execution_count": 24,
   "metadata": {},
   "outputs": [
    {
     "data": {
      "text/plain": [
       "'img_x,throttle,steer,img_y\\n'"
      ]
     },
     "execution_count": 24,
     "metadata": {},
     "output_type": "execute_result"
    }
   ],
   "source": [
    "csv_file = open(train_csv_path)\n",
    "next(csv_file)"
   ]
  },
  {
   "cell_type": "code",
   "execution_count": 25,
   "metadata": {},
   "outputs": [],
   "source": [
    "img_x_path, throttle, steering_angle, img_y_path = next(csv_file).split(',')"
   ]
  },
  {
   "cell_type": "code",
   "execution_count": 26,
   "metadata": {},
   "outputs": [],
   "source": [
    "showed_image = imread(img_x_path)"
   ]
  },
  {
   "cell_type": "code",
   "execution_count": 43,
   "metadata": {
    "scrolled": false
   },
   "outputs": [
    {
     "data": {
      "text/plain": [
       "<matplotlib.image.AxesImage at 0x7f8f040af610>"
      ]
     },
     "execution_count": 43,
     "metadata": {},
     "output_type": "execute_result"
    },
    {
     "data": {
      "image/png": "[encoded data removed]",
      "text/plain": [
       "<Figure size 432x288 with 1 Axes>"
      ]
     },
     "metadata": {
      "needs_background": "light"
     },
     "output_type": "display_data"
    }
   ],
   "source": [
    "plt.imshow(showed_image)"
   ]
  },
  {
   "cell_type": "code",
   "execution_count": 44,
   "metadata": {},
   "outputs": [],
   "source": [
    "img = imread(img_x_path)\n",
    "img = img/255.0\n",
    "img = img.reshape([1,112,112,3])"
   ]
  },
  {
   "cell_type": "code",
   "execution_count": 45,
   "metadata": {},
   "outputs": [],
   "source": [
    "result = autoencoder.predict(img)"
   ]
  },
  {
   "cell_type": "code",
   "execution_count": 46,
   "metadata": {
    "scrolled": false
   },
   "outputs": [
    {
     "name": "stderr",
     "output_type": "stream",
     "text": [
      "Clipping input data to the valid range for imshow with RGB data ([0..1] for floats or [0..255] for integers).\n"
     ]
    },
    {
     "data": {
      "text/plain": [
       "<matplotlib.image.AxesImage at 0x7f8f040c5c90>"
      ]
     },
     "execution_count": 46,
     "metadata": {},
     "output_type": "execute_result"
    },
    {
     "data": {
      "image/png": "[encoded data removed]",
      "text/plain": [
       "<Figure size 432x288 with 1 Axes>"
      ]
     },
     "metadata": {
      "needs_background": "light"
     },
     "output_type": "display_data"
    }
   ],
   "source": [
    "plt.imshow(result.reshape([112,112,3]))"
   ]
  },
  {
   "cell_type": "markdown",
   "metadata": {},
   "source": [
    "# Building the motor babbling MLP"
   ]
  },
  {
   "cell_type": "code",
   "execution_count": 291,
   "metadata": {
    "scrolled": false
   },
   "outputs": [],
   "source": [
    "autoencoder.load_weights(\"autoencoder_babbling_sigmoid_regularized.h5\") "
   ]
  },
  {
   "cell_type": "code",
   "execution_count": 54,
   "metadata": {},
   "outputs": [],
   "source": [
    "autoencoder.trainable = False"
   ]
  },
  {
   "cell_type": "code",
   "execution_count": 116,
   "metadata": {},
   "outputs": [],
   "source": [
    "latent_input = Input(shape=(128,))\n",
    "\n",
    "motor_input = Input(shape=(2,))\n",
    "\n",
    "babbling_input = Concatenate()([latent_input, motor_input])\n",
    "\n",
    "z = Dense(512, activation = selu, activity_regularizer= keras.regularizers.l2(1e-4), kernel_initializer = keras.initializers.he_uniform())(babbling_input)\n",
    "z = Dense(128, activation = 'sigmoid', activity_regularizer= keras.regularizers.l1(1e-4))(z)\n",
    "\n",
    "babbling_mlp = Model(inputs = [latent_input, motor_input], outputs = z)"
   ]
  },
  {
   "cell_type": "code",
   "execution_count": 117,
   "metadata": {
    "scrolled": true
   },
   "outputs": [
    {
     "name": "stdout",
     "output_type": "stream",
     "text": [
      "Model: \"model_7\"\n",
      "__________________________________________________________________________________________________\n",
      "Layer (type)                    Output Shape         Param #     Connected to                     \n",
      "==================================================================================================\n",
      "input_9 (InputLayer)            [(None, 128)]        0                                            \n",
      "__________________________________________________________________________________________________\n",
      "input_10 (InputLayer)           [(None, 2)]          0                                            \n",
      "__________________________________________________________________________________________________\n",
      "concatenate_1 (Concatenate)     (None, 130)          0           input_9[0][0]                    \n",
      "                                                                 input_10[0][0]                   \n",
      "__________________________________________________________________________________________________\n",
      "dense_6 (Dense)                 (None, 512)          67072       concatenate_1[0][0]              \n",
      "__________________________________________________________________________________________________\n",
      "dense_7 (Dense)                 (None, 128)          65664       dense_6[0][0]                    \n",
      "==================================================================================================\n",
      "Total params: 132,736\n",
      "Trainable params: 132,736\n",
      "Non-trainable params: 0\n",
      "__________________________________________________________________________________________________\n"
     ]
    }
   ],
   "source": [
    "babbling_mlp.summary()"
   ]
  },
  {
   "cell_type": "markdown",
   "metadata": {},
   "source": [
    "# Let's train it and see the results "
   ]
  },
  {
   "cell_type": "code",
   "execution_count": 118,
   "metadata": {},
   "outputs": [],
   "source": [
    "babbling_mlp.compile(loss = 'mse', optimizer = keras.optimizers.Adam(learning_rate=1e-4))"
   ]
  },
  {
   "cell_type": "code",
   "execution_count": 119,
   "metadata": {
    "scrolled": true
   },
   "outputs": [],
   "source": [
    "train_X = encoder.predict(train_generator(path, batch_size), steps = train_sample_size/batch_size)"
   ]
  },
  {
   "cell_type": "code",
   "execution_count": 120,
   "metadata": {},
   "outputs": [],
   "source": [
    "train_X = train_X[0:50000,:]"
   ]
  },
  {
   "cell_type": "code",
   "execution_count": 121,
   "metadata": {},
   "outputs": [],
   "source": [
    "train_y = encoder.predict(train_y_generator(path, batch_size), steps = train_sample_size/batch_size)"
   ]
  },
  {
   "cell_type": "code",
   "execution_count": 122,
   "metadata": {},
   "outputs": [],
   "source": [
    "train_y = train_y[0:50000, :]"
   ]
  },
  {
   "cell_type": "code",
   "execution_count": 123,
   "metadata": {},
   "outputs": [],
   "source": [
    "import pickle\n",
    "\n",
    "data = open(\"/home/houcem/data/motor_output.p\", \"rb+\")\n",
    "unpickler = pickle.Unpickler(data)\n",
    "training = unpickler.load()\n",
    "data.close()"
   ]
  },
  {
   "cell_type": "code",
   "execution_count": 124,
   "metadata": {},
   "outputs": [],
   "source": [
    "training = np.asarray(training)"
   ]
  },
  {
   "cell_type": "code",
   "execution_count": 125,
   "metadata": {
    "scrolled": true
   },
   "outputs": [
    {
     "name": "stdout",
     "output_type": "stream",
     "text": [
      "Epoch 1/4\n",
      "1563/1563 [==============================] - 2s 1ms/step - loss: 0.0176\n",
      "Epoch 2/4\n",
      "1563/1563 [==============================] - 2s 1ms/step - loss: 0.0026\n",
      "Epoch 3/4\n",
      "1563/1563 [==============================] - 2s 1ms/step - loss: 0.0017\n",
      "Epoch 4/4\n",
      "1563/1563 [==============================] - 2s 1ms/step - loss: 0.0012\n"
     ]
    },
    {
     "data": {
      "text/plain": [
       "<tensorflow.python.keras.callbacks.History at 0x7f526c4f3f10>"
      ]
     },
     "execution_count": 125,
     "metadata": {},
     "output_type": "execute_result"
    }
   ],
   "source": [
    "babbling_mlp.fit(x=[train_X, training], y= train_y, epochs=4)"
   ]
  },
  {
   "cell_type": "code",
   "execution_count": 126,
   "metadata": {},
   "outputs": [],
   "source": [
    "img_input = Input(shape=(112, 112, 3), name = \"img\")\n",
    "motor_input = Input(shape=(2,), name = \"motor\")\n",
    "\n",
    "Encoded = encoder([img_input])\n",
    "babbling = babbling_mlp([Encoded, motor_input])\n",
    "Decoded = Decoder(babbling)\n",
    "\n",
    "babbling_model = Model(inputs = [img_input, motor_input], outputs = Decoded)"
   ]
  },
  {
   "cell_type": "markdown",
   "metadata": {},
   "source": [
    "# Let's finetune the entire model"
   ]
  },
  {
   "cell_type": "code",
   "execution_count": 127,
   "metadata": {},
   "outputs": [],
   "source": [
    "encoder.trainable = False"
   ]
  },
  {
   "cell_type": "code",
   "execution_count": 128,
   "metadata": {},
   "outputs": [],
   "source": [
    "babbling_model.compile(loss = SSIM_l1_loss, optimizer = keras.optimizers.Adam(learning_rate = 1e-5))"
   ]
  },
  {
   "cell_type": "code",
   "execution_count": 130,
   "metadata": {
    "scrolled": true
   },
   "outputs": [
    {
     "name": "stdout",
     "output_type": "stream",
     "text": [
      "Epoch 1/5\n",
      "2299/2298 [==============================] - 180s 78ms/step - loss: 0.3978 - val_loss: 0.2520\n",
      "Epoch 2/5\n",
      "2299/2298 [==============================] - 181s 79ms/step - loss: 0.3940 - val_loss: 0.2509\n",
      "Epoch 3/5\n",
      "2299/2298 [==============================] - 180s 78ms/step - loss: 0.3907 - val_loss: 0.2498\n",
      "Epoch 4/5\n",
      "2299/2298 [==============================] - 180s 78ms/step - loss: 0.3879 - val_loss: 0.2488\n",
      "Epoch 5/5\n",
      "2299/2298 [==============================] - 182s 79ms/step - loss: 0.3853 - val_loss: 0.2483\n"
     ]
    },
    {
     "data": {
      "text/plain": [
       "<tensorflow.python.keras.callbacks.History at 0x7f52f04ec810>"
      ]
     },
     "execution_count": 130,
     "metadata": {},
     "output_type": "execute_result"
    }
   ],
   "source": [
    "babbling_model.fit(babbling_generator(train_csv_path, batch_size), steps_per_epoch= train_sample_size/batch_size, validation_data=babbling_generator(val_csv_path,batch_size), validation_steps=val_sample_size/batch_size, epochs = 5)"
   ]
  },
  {
   "cell_type": "code",
   "execution_count": 131,
   "metadata": {},
   "outputs": [],
   "source": [
    "babbling_model.save_weights(\"babbling_model_babbling_strided_SSIM.h5\")"
   ]
  },
  {
   "cell_type": "code",
   "execution_count": 33,
   "metadata": {
    "scrolled": false
   },
   "outputs": [
    {
     "ename": "ValueError",
     "evalue": "Layer #1 (named \"model_10\" in the current model) was found to correspond to layer model_6 in the save file. However the new layer model_10 expects 6 weights, but the saved weights have 4 elements.",
     "output_type": "error",
     "traceback": [
      "\u001b[0;31m---------------------------------------------------------------------------\u001b[0m",
      "\u001b[0;31mValueError\u001b[0m                                Traceback (most recent call last)",
      "\u001b[0;32m<ipython-input-33-f1c953ce33b5>\u001b[0m in \u001b[0;36m<module>\u001b[0;34m\u001b[0m\n\u001b[0;32m----> 1\u001b[0;31m \u001b[0mbabbling_model\u001b[0m\u001b[0;34m.\u001b[0m\u001b[0mload_weights\u001b[0m\u001b[0;34m(\u001b[0m\u001b[0;34m\"babbling_model_direct_adam.h5\"\u001b[0m\u001b[0;34m)\u001b[0m\u001b[0;34m\u001b[0m\u001b[0;34m\u001b[0m\u001b[0m\n\u001b[0m",
      "\u001b[0;32m~/miniconda3/envs/carla/lib/python3.7/site-packages/tensorflow/python/keras/engine/training.py\u001b[0m in \u001b[0;36mload_weights\u001b[0;34m(self, filepath, by_name, skip_mismatch)\u001b[0m\n\u001b[1;32m    248\u001b[0m         raise ValueError('Load weights is not yet supported with TPUStrategy '\n\u001b[1;32m    249\u001b[0m                          'with steps_per_run greater than 1.')\n\u001b[0;32m--> 250\u001b[0;31m     \u001b[0;32mreturn\u001b[0m \u001b[0msuper\u001b[0m\u001b[0;34m(\u001b[0m\u001b[0mModel\u001b[0m\u001b[0;34m,\u001b[0m \u001b[0mself\u001b[0m\u001b[0;34m)\u001b[0m\u001b[0;34m.\u001b[0m\u001b[0mload_weights\u001b[0m\u001b[0;34m(\u001b[0m\u001b[0mfilepath\u001b[0m\u001b[0;34m,\u001b[0m \u001b[0mby_name\u001b[0m\u001b[0;34m,\u001b[0m \u001b[0mskip_mismatch\u001b[0m\u001b[0;34m)\u001b[0m\u001b[0;34m\u001b[0m\u001b[0;34m\u001b[0m\u001b[0m\n\u001b[0m\u001b[1;32m    251\u001b[0m \u001b[0;34m\u001b[0m\u001b[0m\n\u001b[1;32m    252\u001b[0m   def compile(self,\n",
      "\u001b[0;32m~/miniconda3/envs/carla/lib/python3.7/site-packages/tensorflow/python/keras/engine/network.py\u001b[0m in \u001b[0;36mload_weights\u001b[0;34m(self, filepath, by_name, skip_mismatch)\u001b[0m\n\u001b[1;32m   1264\u001b[0m             f, self.layers, skip_mismatch=skip_mismatch)\n\u001b[1;32m   1265\u001b[0m       \u001b[0;32melse\u001b[0m\u001b[0;34m:\u001b[0m\u001b[0;34m\u001b[0m\u001b[0;34m\u001b[0m\u001b[0m\n\u001b[0;32m-> 1266\u001b[0;31m         \u001b[0mhdf5_format\u001b[0m\u001b[0;34m.\u001b[0m\u001b[0mload_weights_from_hdf5_group\u001b[0m\u001b[0;34m(\u001b[0m\u001b[0mf\u001b[0m\u001b[0;34m,\u001b[0m \u001b[0mself\u001b[0m\u001b[0;34m.\u001b[0m\u001b[0mlayers\u001b[0m\u001b[0;34m)\u001b[0m\u001b[0;34m\u001b[0m\u001b[0;34m\u001b[0m\u001b[0m\n\u001b[0m\u001b[1;32m   1267\u001b[0m \u001b[0;34m\u001b[0m\u001b[0m\n\u001b[1;32m   1268\u001b[0m   \u001b[0;32mdef\u001b[0m \u001b[0m_updated_config\u001b[0m\u001b[0;34m(\u001b[0m\u001b[0mself\u001b[0m\u001b[0;34m)\u001b[0m\u001b[0;34m:\u001b[0m\u001b[0;34m\u001b[0m\u001b[0;34m\u001b[0m\u001b[0m\n",
      "\u001b[0;32m~/miniconda3/envs/carla/lib/python3.7/site-packages/tensorflow/python/keras/saving/hdf5_format.py\u001b[0m in \u001b[0;36mload_weights_from_hdf5_group\u001b[0;34m(f, layers)\u001b[0m\n\u001b[1;32m    703\u001b[0m                        \u001b[0mstr\u001b[0m\u001b[0;34m(\u001b[0m\u001b[0mlen\u001b[0m\u001b[0;34m(\u001b[0m\u001b[0msymbolic_weights\u001b[0m\u001b[0;34m)\u001b[0m\u001b[0;34m)\u001b[0m \u001b[0;34m+\u001b[0m\u001b[0;34m\u001b[0m\u001b[0;34m\u001b[0m\u001b[0m\n\u001b[1;32m    704\u001b[0m                        \u001b[0;34m' weights, but the saved weights have '\u001b[0m \u001b[0;34m+\u001b[0m\u001b[0;34m\u001b[0m\u001b[0;34m\u001b[0m\u001b[0m\n\u001b[0;32m--> 705\u001b[0;31m                        str(len(weight_values)) + ' elements.')\n\u001b[0m\u001b[1;32m    706\u001b[0m     \u001b[0mweight_value_tuples\u001b[0m \u001b[0;34m+=\u001b[0m \u001b[0mzip\u001b[0m\u001b[0;34m(\u001b[0m\u001b[0msymbolic_weights\u001b[0m\u001b[0;34m,\u001b[0m \u001b[0mweight_values\u001b[0m\u001b[0;34m)\u001b[0m\u001b[0;34m\u001b[0m\u001b[0;34m\u001b[0m\u001b[0m\n\u001b[1;32m    707\u001b[0m   \u001b[0mK\u001b[0m\u001b[0;34m.\u001b[0m\u001b[0mbatch_set_value\u001b[0m\u001b[0;34m(\u001b[0m\u001b[0mweight_value_tuples\u001b[0m\u001b[0;34m)\u001b[0m\u001b[0;34m\u001b[0m\u001b[0;34m\u001b[0m\u001b[0m\n",
      "\u001b[0;31mValueError\u001b[0m: Layer #1 (named \"model_10\" in the current model) was found to correspond to layer model_6 in the save file. However the new layer model_10 expects 6 weights, but the saved weights have 4 elements."
     ]
    }
   ],
   "source": [
    "babbling_model.load_weights(\"babbling_model_direct_adam.h5\")"
   ]
  },
  {
   "cell_type": "code",
   "execution_count": null,
   "metadata": {},
   "outputs": [],
   "source": []
  },
  {
   "cell_type": "code",
   "execution_count": 36,
   "metadata": {},
   "outputs": [],
   "source": [
    "x_paths = sorted(glob.glob(\"/home/houcem/data_val/rgb/*.png\"))"
   ]
  },
  {
   "cell_type": "code",
   "execution_count": 37,
   "metadata": {},
   "outputs": [],
   "source": [
    "def display_results(x_paths, training, predictions, i):\n",
    "    fig, ax = plt.subplots(nrows = 1, ncols = 3, figsize=(10,18))\n",
    "    \n",
    "    #Showing the image at instant t\n",
    "    img_t = imread(str(x_paths[i]))\n",
    "    ax.flat[0].imshow(img_t)\n",
    "    \n",
    "    #showing the image at instant t+1\n",
    "    img_t1 = imread(str(x_paths[i+1]))\n",
    "    ax.flat[1].imshow(img_t1)\n",
    "    \n",
    "    #showing the predicted image\n",
    "    ax.flat[2].imshow(predictions[i])\n",
    "    \n",
    "    plt.show()\n",
    "    \n",
    "    print('Throttle ', training[i][0])\n",
    "    print('Steering Angle', training[i][1])"
   ]
  },
  {
   "cell_type": "code",
   "execution_count": 38,
   "metadata": {},
   "outputs": [],
   "source": [
    "from ipywidgets import interact, fixed\n",
    "import ipywidgets as widgets"
   ]
  },
  {
   "cell_type": "code",
   "execution_count": 39,
   "metadata": {},
   "outputs": [
    {
     "ename": "NameError",
     "evalue": "name 'test' is not defined",
     "output_type": "error",
     "traceback": [
      "\u001b[0;31m---------------------------------------------------------------------------\u001b[0m",
      "\u001b[0;31mNameError\u001b[0m                                 Traceback (most recent call last)",
      "\u001b[0;32m<ipython-input-39-0d3c1f82fca1>\u001b[0m in \u001b[0;36m<module>\u001b[0;34m\u001b[0m\n\u001b[0;32m----> 1\u001b[0;31m \u001b[0minteract\u001b[0m\u001b[0;34m(\u001b[0m\u001b[0mdisplay_results\u001b[0m\u001b[0;34m,\u001b[0m \u001b[0mx_paths\u001b[0m\u001b[0;34m=\u001b[0m\u001b[0mfixed\u001b[0m\u001b[0;34m(\u001b[0m\u001b[0mx_paths\u001b[0m\u001b[0;34m)\u001b[0m\u001b[0;34m,\u001b[0m \u001b[0mtraining\u001b[0m\u001b[0;34m=\u001b[0m\u001b[0mfixed\u001b[0m\u001b[0;34m(\u001b[0m\u001b[0mtest\u001b[0m\u001b[0;34m)\u001b[0m\u001b[0;34m,\u001b[0m \u001b[0mpredictions\u001b[0m\u001b[0;34m=\u001b[0m\u001b[0mfixed\u001b[0m\u001b[0;34m(\u001b[0m\u001b[0mpredictions\u001b[0m\u001b[0;34m)\u001b[0m\u001b[0;34m,\u001b[0m \u001b[0mi\u001b[0m\u001b[0;34m=\u001b[0m\u001b[0mwidgets\u001b[0m\u001b[0;34m.\u001b[0m\u001b[0mIntSlider\u001b[0m\u001b[0;34m(\u001b[0m\u001b[0mmin\u001b[0m\u001b[0;34m=\u001b[0m\u001b[0;36m0\u001b[0m\u001b[0;34m,\u001b[0m \u001b[0mmax\u001b[0m\u001b[0;34m=\u001b[0m\u001b[0;36m9999\u001b[0m\u001b[0;34m,\u001b[0m \u001b[0mstep\u001b[0m\u001b[0;34m=\u001b[0m\u001b[0;36m1\u001b[0m\u001b[0;34m,\u001b[0m \u001b[0mvalue\u001b[0m\u001b[0;34m=\u001b[0m\u001b[0;36m10\u001b[0m\u001b[0;34m)\u001b[0m\u001b[0;34m)\u001b[0m\u001b[0;34m\u001b[0m\u001b[0;34m\u001b[0m\u001b[0m\n\u001b[0m",
      "\u001b[0;31mNameError\u001b[0m: name 'test' is not defined"
     ]
    }
   ],
   "source": [
    "interact(display_results, x_paths=fixed(x_paths), training=fixed(test), predictions=fixed(predictions), i=widgets.IntSlider(min=0, max=9999, step=1, value=10))"
   ]
  },
  {
   "cell_type": "code",
   "execution_count": null,
   "metadata": {},
   "outputs": [],
   "source": []
  }
 ],
 "metadata": {
  "kernelspec": {
   "display_name": "Python 3",
   "language": "python",
   "name": "python3"
  },
  "language_info": {
   "codemirror_mode": {
    "name": "ipython",
    "version": 3
   },
   "file_extension": ".py",
   "mimetype": "text/x-python",
   "name": "python",
   "nbconvert_exporter": "python",
   "pygments_lexer": "ipython3",
   "version": "3.7.9"
  }
 },
 "nbformat": 4,
 "nbformat_minor": 4
}
